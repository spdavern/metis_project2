{
 "cells": [
  {
   "cell_type": "code",
   "execution_count": 1,
   "metadata": {},
   "outputs": [
    {
     "data": {
      "text/plain": [
       "['/Users/sean/anaconda3/envs/metis/lib/python3.7/site-packages/requests']"
      ]
     },
     "execution_count": 1,
     "metadata": {},
     "output_type": "execute_result"
    }
   ],
   "source": [
    "from __future__ import print_function, division\n",
    "import requests\n",
    "requests.__path__"
   ]
  },
  {
   "cell_type": "code",
   "execution_count": 2,
   "metadata": {},
   "outputs": [
    {
     "data": {
      "text/plain": [
       "200"
      ]
     },
     "execution_count": 2,
     "metadata": {},
     "output_type": "execute_result"
    }
   ],
   "source": [
    "url = 'https://www.boats.com/boats-for-sale/?boat-type=sail&class=sail-cruiser&length=40-50ft'\n",
    "response = requests.get(url)\n",
    "response.status_code"
   ]
  },
  {
   "cell_type": "code",
   "execution_count": 3,
   "metadata": {},
   "outputs": [],
   "source": [
    "page = response.text"
   ]
  },
  {
   "cell_type": "code",
   "execution_count": 4,
   "metadata": {},
   "outputs": [],
   "source": [
    "from bs4 import BeautifulSoup\n",
    "soup = BeautifulSoup(page, \"lxml\")"
   ]
  },
  {
   "cell_type": "code",
   "execution_count": 5,
   "metadata": {},
   "outputs": [],
   "source": [
    "#print(soup.prettify())"
   ]
  },
  {
   "cell_type": "markdown",
   "metadata": {},
   "source": [
    "Grab all the listsing in the list on this page.  Then grab the html list items"
   ]
  },
  {
   "cell_type": "code",
   "execution_count": 6,
   "metadata": {
    "scrolled": true
   },
   "outputs": [],
   "source": [
    "all_list_items = soup.find(id='listings-srp').find_all('li')"
   ]
  },
  {
   "cell_type": "markdown",
   "metadata": {},
   "source": [
    "Iterate through the listings colleciton keep the actual boat listing items"
   ]
  },
  {
   "cell_type": "code",
   "execution_count": 7,
   "metadata": {},
   "outputs": [
    {
     "name": "stdout",
     "output_type": "stream",
     "text": [
      "{'data-listing-id': '5637501'}\n"
     ]
    }
   ],
   "source": [
    "print(all_list_items[10].attrs)"
   ]
  },
  {
   "cell_type": "code",
   "execution_count": 8,
   "metadata": {},
   "outputs": [
    {
     "name": "stdout",
     "output_type": "stream",
     "text": [
      "True\n"
     ]
    }
   ],
   "source": [
    "if 'data-listing-id' in all_list_items[10].attrs:\n",
    "    print(True)"
   ]
  },
  {
   "cell_type": "code",
   "execution_count": 9,
   "metadata": {},
   "outputs": [
    {
     "data": {
      "text/plain": [
       "True"
      ]
     },
     "execution_count": 9,
     "metadata": {},
     "output_type": "execute_result"
    }
   ],
   "source": [
    "all_list_items[10].has_attr('data-listing-id')"
   ]
  },
  {
   "cell_type": "code",
   "execution_count": 21,
   "metadata": {},
   "outputs": [
    {
     "data": {
      "text/plain": [
       "{'href': '/sailing-boats/2020-bali-4-5-5637501/',\n",
       " 'data-reporting-click-product-id': '5637501',\n",
       " 'data-reporting-click-listing-type': 'standard listing'}"
      ]
     },
     "execution_count": 21,
     "metadata": {},
     "output_type": "execute_result"
    }
   ],
   "source": [
    "all_list_items[10].find('a').attrs"
   ]
  },
  {
   "cell_type": "code",
   "execution_count": 25,
   "metadata": {},
   "outputs": [
    {
     "name": "stdout",
     "output_type": "stream",
     "text": [
      "/sailing-boats/2020-bali-4-5-5637501/\n"
     ]
    }
   ],
   "source": [
    "print(all_list_items[10].find('a')['href'])"
   ]
  },
  {
   "cell_type": "markdown",
   "metadata": {},
   "source": []
  },
  {
   "cell_type": "code",
   "execution_count": 133,
   "metadata": {},
   "outputs": [
    {
     "name": "stdout",
     "output_type": "stream",
     "text": [
      "Saved initial boats.com pagination page number: 1\n",
      "Obtained and processed Boats.com page 1 and stored data: 9 boats scraped.\n"
     ]
    },
    {
     "data": {
      "text/html": [
       "<div>\n",
       "<style scoped>\n",
       "    .dataframe tbody tr th:only-of-type {\n",
       "        vertical-align: middle;\n",
       "    }\n",
       "\n",
       "    .dataframe tbody tr th {\n",
       "        vertical-align: top;\n",
       "    }\n",
       "\n",
       "    .dataframe thead th {\n",
       "        text-align: right;\n",
       "    }\n",
       "</style>\n",
       "<table border=\"1\" class=\"dataframe\">\n",
       "  <thead>\n",
       "    <tr style=\"text-align: right;\">\n",
       "      <th></th>\n",
       "      <th>ID</th>\n",
       "      <th>link</th>\n",
       "      <th>make_model</th>\n",
       "      <th>year</th>\n",
       "      <th>price</th>\n",
       "      <th>seller</th>\n",
       "      <th>location</th>\n",
       "    </tr>\n",
       "  </thead>\n",
       "  <tbody>\n",
       "    <tr>\n",
       "      <td>0</td>\n",
       "      <td>5637501</td>\n",
       "      <td>/sailing-boats/2020-bali-4-5-5637501/</td>\n",
       "      <td>Bali 4.5</td>\n",
       "      <td>2020</td>\n",
       "      <td>Request Price</td>\n",
       "      <td>Cruising Yachts Unlimited, Inc</td>\n",
       "      <td>All Locations, California</td>\n",
       "    </tr>\n",
       "    <tr>\n",
       "      <td>1</td>\n",
       "      <td>7191853</td>\n",
       "      <td>/sailing-boats/2018-jeanneau-sun-odyssey-419-7...</td>\n",
       "      <td>Jeanneau Sun Odyssey 419</td>\n",
       "      <td>2018</td>\n",
       "      <td>265000</td>\n",
       "      <td>Bluenose Yacht Sales- Newport</td>\n",
       "      <td>Portsmouth, Rhode Island</td>\n",
       "    </tr>\n",
       "    <tr>\n",
       "      <td>2</td>\n",
       "      <td>7213466</td>\n",
       "      <td>/sailing-boats/1996-beneteau-oc-400-7213466/</td>\n",
       "      <td>Beneteau OC 400</td>\n",
       "      <td>1996</td>\n",
       "      <td>89500</td>\n",
       "      <td>Sail Place Inc Kenosha Office</td>\n",
       "      <td>Kenosha , Wisconsin</td>\n",
       "    </tr>\n",
       "    <tr>\n",
       "      <td>3</td>\n",
       "      <td>7216014</td>\n",
       "      <td>/sailing-boats/2002-hunter-466-7216014/</td>\n",
       "      <td>Hunter 466</td>\n",
       "      <td>2002</td>\n",
       "      <td>125900</td>\n",
       "      <td>Latitude Yacht Brokerage, LLC</td>\n",
       "      <td>Stamford, Connecticut</td>\n",
       "    </tr>\n",
       "    <tr>\n",
       "      <td>4</td>\n",
       "      <td>7152732</td>\n",
       "      <td>/sailing-boats/2012-fountaine-pajot-orana-44-7...</td>\n",
       "      <td>Fountaine Pajot Orana 44</td>\n",
       "      <td>2012</td>\n",
       "      <td>388900</td>\n",
       "      <td>POP Yachts</td>\n",
       "      <td>St Thomas, United States</td>\n",
       "    </tr>\n",
       "    <tr>\n",
       "      <td>5</td>\n",
       "      <td>7137823</td>\n",
       "      <td>/sailing-boats/2010-jeanneau-50ds-7137823/</td>\n",
       "      <td>Jeanneau 50DS</td>\n",
       "      <td>2010</td>\n",
       "      <td>289000</td>\n",
       "      <td>Bluenose Yacht Sales- Newport</td>\n",
       "      <td>Portsmouth, Rhode Island</td>\n",
       "    </tr>\n",
       "    <tr>\n",
       "      <td>6</td>\n",
       "      <td>7004954</td>\n",
       "      <td>/sailing-boats/2005-catalina-400-7004954/</td>\n",
       "      <td>Catalina 400</td>\n",
       "      <td>2005</td>\n",
       "      <td>165000</td>\n",
       "      <td>Massey Yacht Sales &amp; Service</td>\n",
       "      <td>Venice, Florida</td>\n",
       "    </tr>\n",
       "    <tr>\n",
       "      <td>7</td>\n",
       "      <td>6824490</td>\n",
       "      <td>/sailing-boats/1979-nautor-swan-441-6824490/</td>\n",
       "      <td>Nautor Swan 441</td>\n",
       "      <td>1979</td>\n",
       "      <td>99000</td>\n",
       "      <td>Berthon USA (Newport, Rhode Island)</td>\n",
       "      <td>Jamestown, Rhode Island</td>\n",
       "    </tr>\n",
       "    <tr>\n",
       "      <td>8</td>\n",
       "      <td>6624760</td>\n",
       "      <td>/sailing-boats/1975-monk-cruiser-6624760/</td>\n",
       "      <td>Monk Cruiser</td>\n",
       "      <td>1975</td>\n",
       "      <td>89900</td>\n",
       "      <td>Yacht Connection</td>\n",
       "      <td>Wilmington, California</td>\n",
       "    </tr>\n",
       "  </tbody>\n",
       "</table>\n",
       "</div>"
      ],
      "text/plain": [
       "        ID                                               link  \\\n",
       "0  5637501              /sailing-boats/2020-bali-4-5-5637501/   \n",
       "1  7191853  /sailing-boats/2018-jeanneau-sun-odyssey-419-7...   \n",
       "2  7213466       /sailing-boats/1996-beneteau-oc-400-7213466/   \n",
       "3  7216014            /sailing-boats/2002-hunter-466-7216014/   \n",
       "4  7152732  /sailing-boats/2012-fountaine-pajot-orana-44-7...   \n",
       "5  7137823         /sailing-boats/2010-jeanneau-50ds-7137823/   \n",
       "6  7004954          /sailing-boats/2005-catalina-400-7004954/   \n",
       "7  6824490       /sailing-boats/1979-nautor-swan-441-6824490/   \n",
       "8  6624760          /sailing-boats/1975-monk-cruiser-6624760/   \n",
       "\n",
       "                 make_model  year          price  \\\n",
       "0                  Bali 4.5  2020  Request Price   \n",
       "1  Jeanneau Sun Odyssey 419  2018         265000   \n",
       "2           Beneteau OC 400  1996          89500   \n",
       "3                Hunter 466  2002         125900   \n",
       "4  Fountaine Pajot Orana 44  2012         388900   \n",
       "5             Jeanneau 50DS  2010         289000   \n",
       "6              Catalina 400  2005         165000   \n",
       "7           Nautor Swan 441  1979          99000   \n",
       "8              Monk Cruiser  1975          89900   \n",
       "\n",
       "                                seller                   location  \n",
       "0       Cruising Yachts Unlimited, Inc  All Locations, California  \n",
       "1        Bluenose Yacht Sales- Newport   Portsmouth, Rhode Island  \n",
       "2        Sail Place Inc Kenosha Office        Kenosha , Wisconsin  \n",
       "3        Latitude Yacht Brokerage, LLC      Stamford, Connecticut  \n",
       "4                           POP Yachts   St Thomas, United States  \n",
       "5        Bluenose Yacht Sales- Newport   Portsmouth, Rhode Island  \n",
       "6         Massey Yacht Sales & Service            Venice, Florida  \n",
       "7  Berthon USA (Newport, Rhode Island)    Jamestown, Rhode Island  \n",
       "8                     Yacht Connection     Wilmington, California  "
      ]
     },
     "execution_count": 133,
     "metadata": {},
     "output_type": "execute_result"
    }
   ],
   "source": [
    "import pandas as pd\n",
    "import requests\n",
    "import sys\n",
    "import os.path\n",
    "import pickle\n",
    "from bs4 import BeautifulSoup\n",
    "\n",
    "# Initialize variables\n",
    "url = 'https://www.boats.com/boats-for-sale/?boat-type=sail&class=sail-cruiser&length=40-50ft&page='\n",
    "pagination_page_path = './data/pagination_page.pickle'\n",
    "All_Listings_path = './data/All_Listings.pkl'\n",
    "columns = ['ID','link', 'make_model', 'year', 'price', 'seller', 'location']\n",
    "\n",
    "# Determine the pagination page and consequently the full url\n",
    "if (not os.path.isfile(pagination_page_path)) or (not os.path.isfile(All_Listings_path)):\n",
    "    # One or both data files don't exist so start from scratch (page 1).\n",
    "    pagination_page = 1\n",
    "    All_Listings = pd.DataFrame(columns=columns)\n",
    "    with open(pagination_page_path, 'wb') as f:\n",
    "        # Pickle the 'pagination_page' using the highest protocol available.\n",
    "        pickle.dump(pagination_page, f, pickle.HIGHEST_PROTOCOL)\n",
    "    print('Saved initial boats.com pagination page number: 1')\n",
    "else:\n",
    "    # TODO: Should implement a try/catch here in case file is corrupt.\n",
    "    # Load boats.com pagination page number and previously scraped boat data.\n",
    "    with open(pagination_page_path, 'rb') as f:\n",
    "        # The protocol version used is detected automatically, so we do not\n",
    "        # have to specify it.\n",
    "        pagination_page = pickle.load(f)\n",
    "    All_Listings = pd.read_pickle(All_Listings_path)\n",
    "    print('Read current boats.com pagination page:', pagination_page, \n",
    "          'Starting with:', len(All_Listings), 'boats.')\n",
    "url = url + str(pagination_page)\n",
    "\n",
    "# TODO: Implement looping through 203 pagination pages\n",
    "# Get webpage\n",
    "# TODO: It looks like boats.com just sends you to a different page if you use an out of range page #.\n",
    "# TODO: Might be fancy to implement selenium \"next\" rather than fixed loop\n",
    "# TODO: remove comment to get url.\n",
    "#response = requests.get(url)\n",
    "if response.status_code != 200:\n",
    "    sys.exit(response.status_code, ' Error for:', url)\n",
    "page = response.text\n",
    "# Engage BeautifulSoup and a selected parser\n",
    "soup = BeautifulSoup(page, \"lxml\")\n",
    "\n",
    "# Extract the part of the DOM that contains the list of boats\n",
    "all_list_items = soup.find(id='listings-srp').find_all('li')\n",
    "# Loop through the list items to find the actual listings\n",
    "boats = []\n",
    "for list_item in all_list_items:\n",
    "    # Actual listing contain this attribute, others are advertisements\n",
    "    if list_item.has_attr('data-listing-id'):\n",
    "        # Extract the pieces of information contained in each list item\n",
    "        ID = list_item['data-listing-id']\n",
    "        link = list_item.find('a')['href']\n",
    "        make_model = list_item.find('h2').string.strip()\n",
    "        year = list_item.find(class_='year').string.strip()\n",
    "        price = list_item.find(class_='price').string.strip().replace('$','').replace(',','')\n",
    "        seller = list_item.find(class_='seller').text.replace('Seller ','').strip()\n",
    "        location = list_item.find(class_='country').text.strip().title()\n",
    "        boats.append([ID, link, make_model, year, price, seller, location])\n",
    "\n",
    "All_Listings = All_Listings.append(pd.DataFrame(boats, columns=columns), ignore_index=True)\n",
    "All_Listings.to_pickle(All_Listings_path)\n",
    "pagination_page += 1\n",
    "with open(pagination_page_path, 'wb') as f:\n",
    "    # Pickle the 'pagination_page' using the highest protocol available.\n",
    "    pickle.dump(pagination_page, f, pickle.HIGHEST_PROTOCOL)\n",
    "print('Obtained and processed Boats.com page', str(int(pagination_page)-1).strip(), 'and stored data:',\n",
    "      len(All_Listings),'boats scraped.')\n",
    "url = url.replace('page=1','page=' + str(pagination_page))\n",
    "\n",
    "All_Listings"
   ]
  },
  {
   "cell_type": "code",
   "execution_count": 131,
   "metadata": {},
   "outputs": [
    {
     "data": {
      "text/plain": [
       "'All Locations, California'"
      ]
     },
     "execution_count": 131,
     "metadata": {},
     "output_type": "execute_result"
    }
   ],
   "source": [
    "all_list_items[10].find(class_='country').text.strip()"
   ]
  },
  {
   "cell_type": "code",
   "execution_count": 100,
   "metadata": {},
   "outputs": [
    {
     "name": "stdout",
     "output_type": "stream",
     "text": [
      "0\n",
      "1\n"
     ]
    }
   ],
   "source": []
  },
  {
   "cell_type": "code",
   "execution_count": 58,
   "metadata": {},
   "outputs": [
    {
     "data": {
      "text/plain": [
       "'5637501'"
      ]
     },
     "execution_count": 58,
     "metadata": {},
     "output_type": "execute_result"
    }
   ],
   "source": [
    "all_list_items[10]['data-listing-id']"
   ]
  },
  {
   "cell_type": "code",
   "execution_count": null,
   "metadata": {},
   "outputs": [],
   "source": []
  }
 ],
 "metadata": {
  "kernelspec": {
   "display_name": "Python [conda env:metis] *",
   "language": "python",
   "name": "conda-env-metis-py"
  },
  "language_info": {
   "codemirror_mode": {
    "name": "ipython",
    "version": 3
   },
   "file_extension": ".py",
   "mimetype": "text/x-python",
   "name": "python",
   "nbconvert_exporter": "python",
   "pygments_lexer": "ipython3",
   "version": "3.7.3"
  }
 },
 "nbformat": 4,
 "nbformat_minor": 2
}
