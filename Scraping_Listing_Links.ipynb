{
 "cells": [
  {
   "cell_type": "code",
   "execution_count": 1,
   "metadata": {},
   "outputs": [
    {
     "data": {
      "text/plain": [
       "['/Users/sean/anaconda3/envs/metis/lib/python3.7/site-packages/requests']"
      ]
     },
     "execution_count": 1,
     "metadata": {},
     "output_type": "execute_result"
    }
   ],
   "source": [
    "from __future__ import print_function, division\n",
    "import requests\n",
    "requests.__path__"
   ]
  },
  {
   "cell_type": "markdown",
   "metadata": {},
   "source": [
    "Request a page of listing from boats.com:"
   ]
  },
  {
   "cell_type": "code",
   "execution_count": 2,
   "metadata": {},
   "outputs": [
    {
     "data": {
      "text/plain": [
       "200"
      ]
     },
     "execution_count": 2,
     "metadata": {},
     "output_type": "execute_result"
    }
   ],
   "source": [
    "url = 'https://www.boats.com/boats-for-sale/?boat-type=sail&class=sail-cruiser&length=40-50ft&Page=1'\n",
    "response = requests.get(url)\n",
    "response.status_code"
   ]
  },
  {
   "cell_type": "code",
   "execution_count": 3,
   "metadata": {},
   "outputs": [
    {
     "data": {
      "text/plain": [
       "'https://www.boats.com/boats-for-sale/?boat-type=sail&class=sail-cruiser&length=40-50ft&page=1'"
      ]
     },
     "execution_count": 3,
     "metadata": {},
     "output_type": "execute_result"
    }
   ],
   "source": [
    "response.url"
   ]
  },
  {
   "cell_type": "code",
   "execution_count": 4,
   "metadata": {},
   "outputs": [],
   "source": [
    "page = response.text"
   ]
  },
  {
   "cell_type": "markdown",
   "metadata": {},
   "source": [
    "Load the page content into a BeautifulSoup object."
   ]
  },
  {
   "cell_type": "code",
   "execution_count": 5,
   "metadata": {},
   "outputs": [],
   "source": [
    "from bs4 import BeautifulSoup\n",
    "soup = BeautifulSoup(page, \"lxml\")"
   ]
  },
  {
   "cell_type": "code",
   "execution_count": 6,
   "metadata": {},
   "outputs": [],
   "source": [
    "#print(soup.prettify())"
   ]
  },
  {
   "cell_type": "markdown",
   "metadata": {},
   "source": [
    "## Explorations to find the items I want:\n",
    "Grab all the listings in the list on this page.  Then grab the html list items"
   ]
  },
  {
   "cell_type": "code",
   "execution_count": 7,
   "metadata": {
    "scrolled": true
   },
   "outputs": [],
   "source": [
    "all_list_items = soup.find(id='listings-srp').find_all('li')"
   ]
  },
  {
   "cell_type": "markdown",
   "metadata": {},
   "source": [
    "Iterate through the listings collection to find the actual boat listing items that have this attribute:"
   ]
  },
  {
   "cell_type": "code",
   "execution_count": 8,
   "metadata": {},
   "outputs": [
    {
     "name": "stdout",
     "output_type": "stream",
     "text": [
      "{'data-listing-id': '5637501'}\n"
     ]
    }
   ],
   "source": [
    "print(all_list_items[10].attrs)"
   ]
  },
  {
   "cell_type": "code",
   "execution_count": 9,
   "metadata": {},
   "outputs": [
    {
     "name": "stdout",
     "output_type": "stream",
     "text": [
      "True\n"
     ]
    }
   ],
   "source": [
    "if 'data-listing-id' in all_list_items[10].attrs:\n",
    "    print(True)"
   ]
  },
  {
   "cell_type": "code",
   "execution_count": 10,
   "metadata": {},
   "outputs": [
    {
     "data": {
      "text/plain": [
       "True"
      ]
     },
     "execution_count": 10,
     "metadata": {},
     "output_type": "execute_result"
    }
   ],
   "source": [
    "all_list_items[10].has_attr('data-listing-id')"
   ]
  },
  {
   "cell_type": "markdown",
   "metadata": {},
   "source": [
    "The hyperlink (a tag) contains BoatID and the URL we need."
   ]
  },
  {
   "cell_type": "code",
   "execution_count": 11,
   "metadata": {
    "scrolled": true
   },
   "outputs": [
    {
     "data": {
      "text/plain": [
       "{'href': '/sailing-boats/2020-bali-4-5-5637501/',\n",
       " 'data-reporting-click-product-id': '5637501',\n",
       " 'data-reporting-click-listing-type': 'standard listing'}"
      ]
     },
     "execution_count": 11,
     "metadata": {},
     "output_type": "execute_result"
    }
   ],
   "source": [
    "all_list_items[10].find('a').attrs"
   ]
  },
  {
   "cell_type": "code",
   "execution_count": 12,
   "metadata": {},
   "outputs": [
    {
     "name": "stdout",
     "output_type": "stream",
     "text": [
      "/sailing-boats/2020-bali-4-5-5637501/\n"
     ]
    }
   ],
   "source": [
    "print(all_list_items[10].find('a')['href'])"
   ]
  },
  {
   "cell_type": "markdown",
   "metadata": {},
   "source": [
    "After the above exploratory work I was able to create the code below to extract boat listing link data."
   ]
  },
  {
   "cell_type": "code",
   "execution_count": 13,
   "metadata": {
    "scrolled": true
   },
   "outputs": [
    {
     "name": "stdout",
     "output_type": "stream",
     "text": [
      "Read current boats.com pagination page: 204 Starting with: 3021 boats.\n",
      "Boat.com redirected to all sailboats!  Delete data files to restart.\n"
     ]
    },
    {
     "data": {
      "text/html": [
       "<div>\n",
       "<style scoped>\n",
       "    .dataframe tbody tr th:only-of-type {\n",
       "        vertical-align: middle;\n",
       "    }\n",
       "\n",
       "    .dataframe tbody tr th {\n",
       "        vertical-align: top;\n",
       "    }\n",
       "\n",
       "    .dataframe thead th {\n",
       "        text-align: right;\n",
       "    }\n",
       "</style>\n",
       "<table border=\"1\" class=\"dataframe\">\n",
       "  <thead>\n",
       "    <tr style=\"text-align: right;\">\n",
       "      <th></th>\n",
       "      <th>link</th>\n",
       "      <th>make_model</th>\n",
       "      <th>year</th>\n",
       "      <th>price</th>\n",
       "      <th>seller</th>\n",
       "      <th>location</th>\n",
       "    </tr>\n",
       "  </thead>\n",
       "  <tbody>\n",
       "    <tr>\n",
       "      <td>BoatID</td>\n",
       "      <td>NaN</td>\n",
       "      <td>NaN</td>\n",
       "      <td>NaN</td>\n",
       "      <td>NaN</td>\n",
       "      <td>NaN</td>\n",
       "      <td>NaN</td>\n",
       "    </tr>\n",
       "    <tr>\n",
       "      <td>5637501</td>\n",
       "      <td>/sailing-boats/2020-bali-4-5-5637501/</td>\n",
       "      <td>Bali 4.5</td>\n",
       "      <td>2020</td>\n",
       "      <td>Request Price</td>\n",
       "      <td>Cruising Yachts Unlimited, Inc</td>\n",
       "      <td>All Locations, California</td>\n",
       "    </tr>\n",
       "    <tr>\n",
       "      <td>7213466</td>\n",
       "      <td>/sailing-boats/1996-beneteau-oc-400-7213466/</td>\n",
       "      <td>Beneteau OC 400</td>\n",
       "      <td>1996</td>\n",
       "      <td>89500</td>\n",
       "      <td>Sail Place Inc Kenosha Office</td>\n",
       "      <td>Kenosha , Wisconsin</td>\n",
       "    </tr>\n",
       "    <tr>\n",
       "      <td>7216014</td>\n",
       "      <td>/sailing-boats/2002-hunter-466-7216014/</td>\n",
       "      <td>Hunter 466</td>\n",
       "      <td>2002</td>\n",
       "      <td>125900</td>\n",
       "      <td>Latitude Yacht Brokerage, LLC</td>\n",
       "      <td>Stamford, Connecticut</td>\n",
       "    </tr>\n",
       "    <tr>\n",
       "      <td>7191853</td>\n",
       "      <td>/sailing-boats/2018-jeanneau-sun-odyssey-419-7...</td>\n",
       "      <td>Jeanneau Sun Odyssey 419</td>\n",
       "      <td>2018</td>\n",
       "      <td>265000</td>\n",
       "      <td>Bluenose Yacht Sales- Newport</td>\n",
       "      <td>Portsmouth, Rhode Island</td>\n",
       "    </tr>\n",
       "    <tr>\n",
       "      <td>...</td>\n",
       "      <td>...</td>\n",
       "      <td>...</td>\n",
       "      <td>...</td>\n",
       "      <td>...</td>\n",
       "      <td>...</td>\n",
       "      <td>...</td>\n",
       "    </tr>\n",
       "    <tr>\n",
       "      <td>601866</td>\n",
       "      <td>/sailing-boats/2002-beneteau-first-47-7-601866/</td>\n",
       "      <td>Beneteau First 47.7</td>\n",
       "      <td>2002</td>\n",
       "      <td>148085</td>\n",
       "      <td>Giulio Cesare Giua</td>\n",
       "      <td>Roma, Italy</td>\n",
       "    </tr>\n",
       "    <tr>\n",
       "      <td>3106946</td>\n",
       "      <td>/sailing-boats/2009-dufour-425-3106946/</td>\n",
       "      <td>Dufour 425</td>\n",
       "      <td>2009</td>\n",
       "      <td>108596</td>\n",
       "      <td>Star Cruising</td>\n",
       "      <td>Toscana, Italy</td>\n",
       "    </tr>\n",
       "    <tr>\n",
       "      <td>3275826</td>\n",
       "      <td>/sailing-boats/1987-custom-ketch-50-3275826/</td>\n",
       "      <td>Custom Ketch 50</td>\n",
       "      <td>1987</td>\n",
       "      <td>245643</td>\n",
       "      <td>Dickies of Bangor</td>\n",
       "      <td>United Kingdom</td>\n",
       "    </tr>\n",
       "    <tr>\n",
       "      <td>915071</td>\n",
       "      <td>/sailing-boats/2004-beneteau-oceanis-clipper-4...</td>\n",
       "      <td>Beneteau Oceanis Clipper 423</td>\n",
       "      <td>2004</td>\n",
       "      <td>193059</td>\n",
       "      <td>CCE Yachting</td>\n",
       "      <td>Sardinia Island, Italy</td>\n",
       "    </tr>\n",
       "    <tr>\n",
       "      <td>1015053</td>\n",
       "      <td>/sailing-boats/1973-nautor-swan-sparkman-steph...</td>\n",
       "      <td>Nautor Swan Sparkman &amp; Stephens 44/039</td>\n",
       "      <td>1973</td>\n",
       "      <td>125000</td>\n",
       "      <td>Sparkman &amp; Stephens, LLC</td>\n",
       "      <td>Mamaroneck, New York</td>\n",
       "    </tr>\n",
       "  </tbody>\n",
       "</table>\n",
       "<p>3021 rows × 6 columns</p>\n",
       "</div>"
      ],
      "text/plain": [
       "                                                      link  \\\n",
       "BoatID                                                 NaN   \n",
       "5637501              /sailing-boats/2020-bali-4-5-5637501/   \n",
       "7213466       /sailing-boats/1996-beneteau-oc-400-7213466/   \n",
       "7216014            /sailing-boats/2002-hunter-466-7216014/   \n",
       "7191853  /sailing-boats/2018-jeanneau-sun-odyssey-419-7...   \n",
       "...                                                    ...   \n",
       "601866     /sailing-boats/2002-beneteau-first-47-7-601866/   \n",
       "3106946            /sailing-boats/2009-dufour-425-3106946/   \n",
       "3275826       /sailing-boats/1987-custom-ketch-50-3275826/   \n",
       "915071   /sailing-boats/2004-beneteau-oceanis-clipper-4...   \n",
       "1015053  /sailing-boats/1973-nautor-swan-sparkman-steph...   \n",
       "\n",
       "                                     make_model  year          price  \\\n",
       "BoatID                                      NaN   NaN            NaN   \n",
       "5637501                                Bali 4.5  2020  Request Price   \n",
       "7213466                         Beneteau OC 400  1996          89500   \n",
       "7216014                              Hunter 466  2002         125900   \n",
       "7191853                Jeanneau Sun Odyssey 419  2018         265000   \n",
       "...                                         ...   ...            ...   \n",
       "601866                      Beneteau First 47.7  2002         148085   \n",
       "3106946                              Dufour 425  2009         108596   \n",
       "3275826                         Custom Ketch 50  1987         245643   \n",
       "915071             Beneteau Oceanis Clipper 423  2004         193059   \n",
       "1015053  Nautor Swan Sparkman & Stephens 44/039  1973         125000   \n",
       "\n",
       "                                 seller                   location  \n",
       "BoatID                              NaN                        NaN  \n",
       "5637501  Cruising Yachts Unlimited, Inc  All Locations, California  \n",
       "7213466   Sail Place Inc Kenosha Office        Kenosha , Wisconsin  \n",
       "7216014   Latitude Yacht Brokerage, LLC      Stamford, Connecticut  \n",
       "7191853   Bluenose Yacht Sales- Newport   Portsmouth, Rhode Island  \n",
       "...                                 ...                        ...  \n",
       "601866               Giulio Cesare Giua                Roma, Italy  \n",
       "3106946                   Star Cruising             Toscana, Italy  \n",
       "3275826               Dickies of Bangor             United Kingdom  \n",
       "915071                     CCE Yachting     Sardinia Island, Italy  \n",
       "1015053        Sparkman & Stephens, LLC       Mamaroneck, New York  \n",
       "\n",
       "[3021 rows x 6 columns]"
      ]
     },
     "execution_count": 13,
     "metadata": {},
     "output_type": "execute_result"
    }
   ],
   "source": [
    "import pandas as pd\n",
    "import requests\n",
    "import sys\n",
    "import os.path\n",
    "import pickle\n",
    "import time\n",
    "import re\n",
    "from bs4 import BeautifulSoup\n",
    "\n",
    "# Initialize variables\n",
    "# Note this url is missing the page:\n",
    "url = 'https://www.boats.com/boats-for-sale/?boat-type=sail&class=sail-cruiser&length=40-50ft&page='\n",
    "# When a page out of range is requested boat.com redirects to this page:\n",
    "redirect_page = 'https://www.boats.com/boats-for-sale/?boat-type=sail'\n",
    "# Path for storing the page number last scraped:\n",
    "pagination_page_path = './data/pagination_page.pickle'\n",
    "# Path for storing the data listings dataframe:\n",
    "All_Listings_path = './data/All_Listings.pkl'\n",
    "# Column definitions for the data listings dataframe:\n",
    "columns = ['link', 'make_model', 'year', 'price', 'seller', 'location']\n",
    "\n",
    "# If either of the two data files don't exist start from scratch.\n",
    "# Otherwise, read ojbects from those files to resume scraping from where it left off.\n",
    "if (not os.path.isfile(pagination_page_path)) or (not os.path.isfile(All_Listings_path)):\n",
    "    # One or both data files don't exist so start from scratch (page 1).\n",
    "    pagination_page = 1\n",
    "    All_Listings = pd.DataFrame(index=['BoatID'],columns=columns)\n",
    "    with open(pagination_page_path, 'wb') as f:\n",
    "        # Pickle the 'pagination_page' using the highest protocol available.\n",
    "        pickle.dump(pagination_page, f, pickle.HIGHEST_PROTOCOL)\n",
    "    print('Saved initial boats.com pagination page number: 1')\n",
    "else:\n",
    "    # TODO: Should implement a try/catch here in case file is corrupt.\n",
    "    # Load boats.com pagination page number and previously scraped boat data.\n",
    "    with open(pagination_page_path, 'rb') as f:\n",
    "        # The protocol version used is detected automatically, so we do not\n",
    "        # have to specify it.\n",
    "        pagination_page = pickle.load(f)\n",
    "    All_Listings = pd.read_pickle(All_Listings_path)\n",
    "    print('Read current boats.com pagination page:', pagination_page, \n",
    "          'Starting with:', len(All_Listings), 'boats.')\n",
    "# Build/Complete the source url\n",
    "url = url + str(pagination_page)\n",
    "\n",
    "# Iterate over all pages of boat listings to pull needed information:\n",
    "run_loop = True\n",
    "while run_loop:\n",
    "    # Get webpage content\n",
    "    response = requests.get(url)\n",
    "    if response.status_code != 200:\n",
    "        sys.exit(response.status_code, ' Error for:', url)\n",
    "    if response.url == redirect_page:  #This occurs when you ask for a page out of range.\n",
    "        run_loop = False\n",
    "        print('Boat.com redirected to all sailboats!  Delete data files to restart.')\n",
    "        break\n",
    "    page = response.text\n",
    "    # Engage BeautifulSoup and a selected parser\n",
    "    soup = BeautifulSoup(page, \"lxml\")\n",
    "\n",
    "    # Extract the part of the DOM that contains the list of boats\n",
    "    all_list_items = soup.find(id='listings-srp').find_all('li')\n",
    "    # Loop through the list items to find the actual listings\n",
    "    # Other items are advertisements and new boats\n",
    "    for list_item in all_list_items:\n",
    "        # Actual listing contain this attribute, others are advertisements\n",
    "        if list_item.has_attr('data-listing-id'):\n",
    "            # Extract the pieces of information contained in each list item\n",
    "            BoatID = list_item['data-listing-id']\n",
    "            # Duplicate listings are possible\n",
    "            if BoatID in All_Listings.index.values:\n",
    "                break\n",
    "            link = list_item.find('a')['href']\n",
    "            make_model = list_item.find('h2').string.strip()\n",
    "            year = list_item.find(class_='year').string.strip()\n",
    "            price = list_item.find(class_='price').text.strip().replace('$','')\\\n",
    "                .replace(',','').replace('\\n','').replace('(Sale Pending)','')\n",
    "            seller = list_item.find(class_='seller').text.replace('Seller ','').strip()\n",
    "            location = list_item.find(class_='country').text.strip().title()\n",
    "            new_boat = pd.DataFrame([[link, make_model, year, price, seller, location]],\\\n",
    "                                    columns=columns,index=[BoatID])\n",
    "            All_Listings = All_Listings.append(new_boat)\n",
    "\n",
    "    # Save the listings and the next page index in case something happens:\n",
    "    All_Listings.to_pickle(All_Listings_path)\n",
    "    pagination_page += 1\n",
    "    with open(pagination_page_path, 'wb') as f:\n",
    "        # Pickle the 'pagination_page' using the highest protocol available.\n",
    "        pickle.dump(pagination_page, f, pickle.HIGHEST_PROTOCOL)\n",
    "    report = 'Obtained and processed Boats.com page '+\\\n",
    "             str(int(pagination_page)-1).strip()+' and stored data: '+\\\n",
    "             str(len(All_Listings))+' boats scraped.\\r'\n",
    "    sys.stdout.write(report)\n",
    "    sys.stdout.flush()\n",
    "    url = re.sub(r'page=[0-9]+','page='+str(pagination_page),url)\n",
    "    time.sleep(2)\n",
    "\n",
    "All_Listings"
   ]
  },
  {
   "cell_type": "code",
   "execution_count": 14,
   "metadata": {
    "scrolled": false
   },
   "outputs": [
    {
     "data": {
      "text/html": [
       "<div>\n",
       "<style scoped>\n",
       "    .dataframe tbody tr th:only-of-type {\n",
       "        vertical-align: middle;\n",
       "    }\n",
       "\n",
       "    .dataframe tbody tr th {\n",
       "        vertical-align: top;\n",
       "    }\n",
       "\n",
       "    .dataframe thead th {\n",
       "        text-align: right;\n",
       "    }\n",
       "</style>\n",
       "<table border=\"1\" class=\"dataframe\">\n",
       "  <thead>\n",
       "    <tr style=\"text-align: right;\">\n",
       "      <th></th>\n",
       "      <th>link</th>\n",
       "      <th>make_model</th>\n",
       "      <th>year</th>\n",
       "      <th>price</th>\n",
       "      <th>seller</th>\n",
       "      <th>location</th>\n",
       "    </tr>\n",
       "  </thead>\n",
       "  <tbody>\n",
       "    <tr>\n",
       "      <td>count</td>\n",
       "      <td>3020</td>\n",
       "      <td>3020</td>\n",
       "      <td>3020</td>\n",
       "      <td>3020</td>\n",
       "      <td>3020</td>\n",
       "      <td>3020</td>\n",
       "    </tr>\n",
       "    <tr>\n",
       "      <td>unique</td>\n",
       "      <td>3020</td>\n",
       "      <td>1405</td>\n",
       "      <td>80</td>\n",
       "      <td>1089</td>\n",
       "      <td>627</td>\n",
       "      <td>1075</td>\n",
       "    </tr>\n",
       "    <tr>\n",
       "      <td>top</td>\n",
       "      <td>/sailing-boats/1988-contest-48-5840617/</td>\n",
       "      <td>Bavaria Cruiser 46</td>\n",
       "      <td>2008</td>\n",
       "      <td>Request Price</td>\n",
       "      <td>Selymar Yachts</td>\n",
       "      <td>Spain</td>\n",
       "    </tr>\n",
       "    <tr>\n",
       "      <td>freq</td>\n",
       "      <td>1</td>\n",
       "      <td>49</td>\n",
       "      <td>171</td>\n",
       "      <td>90</td>\n",
       "      <td>85</td>\n",
       "      <td>72</td>\n",
       "    </tr>\n",
       "  </tbody>\n",
       "</table>\n",
       "</div>"
      ],
      "text/plain": [
       "                                           link          make_model  year  \\\n",
       "count                                      3020                3020  3020   \n",
       "unique                                     3020                1405    80   \n",
       "top     /sailing-boats/1988-contest-48-5840617/  Bavaria Cruiser 46  2008   \n",
       "freq                                          1                  49   171   \n",
       "\n",
       "                price          seller location  \n",
       "count            3020            3020     3020  \n",
       "unique           1089             627     1075  \n",
       "top     Request Price  Selymar Yachts    Spain  \n",
       "freq               90              85       72  "
      ]
     },
     "execution_count": 14,
     "metadata": {},
     "output_type": "execute_result"
    }
   ],
   "source": [
    "All_Listings.describe()"
   ]
  },
  {
   "cell_type": "markdown",
   "metadata": {},
   "source": [
    "Note: all links are now unique. (above)  I have 3020 boat links.  There are no duplicates:"
   ]
  },
  {
   "cell_type": "code",
   "execution_count": 15,
   "metadata": {
    "scrolled": true
   },
   "outputs": [
    {
     "data": {
      "text/html": [
       "<div>\n",
       "<style scoped>\n",
       "    .dataframe tbody tr th:only-of-type {\n",
       "        vertical-align: middle;\n",
       "    }\n",
       "\n",
       "    .dataframe tbody tr th {\n",
       "        vertical-align: top;\n",
       "    }\n",
       "\n",
       "    .dataframe thead th {\n",
       "        text-align: right;\n",
       "    }\n",
       "</style>\n",
       "<table border=\"1\" class=\"dataframe\">\n",
       "  <thead>\n",
       "    <tr style=\"text-align: right;\">\n",
       "      <th></th>\n",
       "      <th>link</th>\n",
       "      <th>make_model</th>\n",
       "      <th>year</th>\n",
       "      <th>price</th>\n",
       "      <th>seller</th>\n",
       "      <th>location</th>\n",
       "    </tr>\n",
       "  </thead>\n",
       "  <tbody>\n",
       "  </tbody>\n",
       "</table>\n",
       "</div>"
      ],
      "text/plain": [
       "Empty DataFrame\n",
       "Columns: [link, make_model, year, price, seller, location]\n",
       "Index: []"
      ]
     },
     "execution_count": 15,
     "metadata": {},
     "output_type": "execute_result"
    }
   ],
   "source": [
    "All_Listings[All_Listings.duplicated()]"
   ]
  },
  {
   "cell_type": "code",
   "execution_count": 16,
   "metadata": {},
   "outputs": [
    {
     "data": {
      "text/html": [
       "<div>\n",
       "<style scoped>\n",
       "    .dataframe tbody tr th:only-of-type {\n",
       "        vertical-align: middle;\n",
       "    }\n",
       "\n",
       "    .dataframe tbody tr th {\n",
       "        vertical-align: top;\n",
       "    }\n",
       "\n",
       "    .dataframe thead th {\n",
       "        text-align: right;\n",
       "    }\n",
       "</style>\n",
       "<table border=\"1\" class=\"dataframe\">\n",
       "  <thead>\n",
       "    <tr style=\"text-align: right;\">\n",
       "      <th></th>\n",
       "      <th>link</th>\n",
       "      <th>make_model</th>\n",
       "      <th>year</th>\n",
       "      <th>price</th>\n",
       "      <th>seller</th>\n",
       "      <th>location</th>\n",
       "    </tr>\n",
       "  </thead>\n",
       "  <tbody>\n",
       "  </tbody>\n",
       "</table>\n",
       "</div>"
      ],
      "text/plain": [
       "Empty DataFrame\n",
       "Columns: [link, make_model, year, price, seller, location]\n",
       "Index: []"
      ]
     },
     "execution_count": 16,
     "metadata": {},
     "output_type": "execute_result"
    }
   ],
   "source": [
    "All_Listings[All_Listings.index.duplicated()]"
   ]
  },
  {
   "cell_type": "code",
   "execution_count": 17,
   "metadata": {},
   "outputs": [
    {
     "data": {
      "text/html": [
       "<div>\n",
       "<style scoped>\n",
       "    .dataframe tbody tr th:only-of-type {\n",
       "        vertical-align: middle;\n",
       "    }\n",
       "\n",
       "    .dataframe tbody tr th {\n",
       "        vertical-align: top;\n",
       "    }\n",
       "\n",
       "    .dataframe thead th {\n",
       "        text-align: right;\n",
       "    }\n",
       "</style>\n",
       "<table border=\"1\" class=\"dataframe\">\n",
       "  <thead>\n",
       "    <tr style=\"text-align: right;\">\n",
       "      <th></th>\n",
       "      <th>link</th>\n",
       "      <th>make_model</th>\n",
       "      <th>year</th>\n",
       "      <th>price</th>\n",
       "      <th>seller</th>\n",
       "      <th>location</th>\n",
       "    </tr>\n",
       "  </thead>\n",
       "  <tbody>\n",
       "    <tr>\n",
       "      <td>601866</td>\n",
       "      <td>/sailing-boats/2002-beneteau-first-47-7-601866/</td>\n",
       "      <td>Beneteau First 47.7</td>\n",
       "      <td>2002</td>\n",
       "      <td>148085</td>\n",
       "      <td>Giulio Cesare Giua</td>\n",
       "      <td>Roma, Italy</td>\n",
       "    </tr>\n",
       "    <tr>\n",
       "      <td>3106946</td>\n",
       "      <td>/sailing-boats/2009-dufour-425-3106946/</td>\n",
       "      <td>Dufour 425</td>\n",
       "      <td>2009</td>\n",
       "      <td>108596</td>\n",
       "      <td>Star Cruising</td>\n",
       "      <td>Toscana, Italy</td>\n",
       "    </tr>\n",
       "    <tr>\n",
       "      <td>3275826</td>\n",
       "      <td>/sailing-boats/1987-custom-ketch-50-3275826/</td>\n",
       "      <td>Custom Ketch 50</td>\n",
       "      <td>1987</td>\n",
       "      <td>245643</td>\n",
       "      <td>Dickies of Bangor</td>\n",
       "      <td>United Kingdom</td>\n",
       "    </tr>\n",
       "    <tr>\n",
       "      <td>915071</td>\n",
       "      <td>/sailing-boats/2004-beneteau-oceanis-clipper-4...</td>\n",
       "      <td>Beneteau Oceanis Clipper 423</td>\n",
       "      <td>2004</td>\n",
       "      <td>193059</td>\n",
       "      <td>CCE Yachting</td>\n",
       "      <td>Sardinia Island, Italy</td>\n",
       "    </tr>\n",
       "    <tr>\n",
       "      <td>1015053</td>\n",
       "      <td>/sailing-boats/1973-nautor-swan-sparkman-steph...</td>\n",
       "      <td>Nautor Swan Sparkman &amp; Stephens 44/039</td>\n",
       "      <td>1973</td>\n",
       "      <td>125000</td>\n",
       "      <td>Sparkman &amp; Stephens, LLC</td>\n",
       "      <td>Mamaroneck, New York</td>\n",
       "    </tr>\n",
       "  </tbody>\n",
       "</table>\n",
       "</div>"
      ],
      "text/plain": [
       "                                                      link  \\\n",
       "601866     /sailing-boats/2002-beneteau-first-47-7-601866/   \n",
       "3106946            /sailing-boats/2009-dufour-425-3106946/   \n",
       "3275826       /sailing-boats/1987-custom-ketch-50-3275826/   \n",
       "915071   /sailing-boats/2004-beneteau-oceanis-clipper-4...   \n",
       "1015053  /sailing-boats/1973-nautor-swan-sparkman-steph...   \n",
       "\n",
       "                                     make_model  year   price  \\\n",
       "601866                      Beneteau First 47.7  2002  148085   \n",
       "3106946                              Dufour 425  2009  108596   \n",
       "3275826                         Custom Ketch 50  1987  245643   \n",
       "915071             Beneteau Oceanis Clipper 423  2004  193059   \n",
       "1015053  Nautor Swan Sparkman & Stephens 44/039  1973  125000   \n",
       "\n",
       "                           seller                location  \n",
       "601866         Giulio Cesare Giua             Roma, Italy  \n",
       "3106946             Star Cruising          Toscana, Italy  \n",
       "3275826         Dickies of Bangor          United Kingdom  \n",
       "915071               CCE Yachting  Sardinia Island, Italy  \n",
       "1015053  Sparkman & Stephens, LLC    Mamaroneck, New York  "
      ]
     },
     "execution_count": 17,
     "metadata": {},
     "output_type": "execute_result"
    }
   ],
   "source": [
    "All_Listings.tail()"
   ]
  },
  {
   "cell_type": "code",
   "execution_count": 18,
   "metadata": {},
   "outputs": [
    {
     "data": {
      "text/plain": [
       "'https://www.boats.com/boats-for-sale/?boat-type=sail'"
      ]
     },
     "execution_count": 18,
     "metadata": {},
     "output_type": "execute_result"
    }
   ],
   "source": [
    "response.url"
   ]
  },
  {
   "cell_type": "code",
   "execution_count": null,
   "metadata": {},
   "outputs": [],
   "source": []
  }
 ],
 "metadata": {
  "kernelspec": {
   "display_name": "Python [conda env:metis] *",
   "language": "python",
   "name": "conda-env-metis-py"
  },
  "language_info": {
   "codemirror_mode": {
    "name": "ipython",
    "version": 3
   },
   "file_extension": ".py",
   "mimetype": "text/x-python",
   "name": "python",
   "nbconvert_exporter": "python",
   "pygments_lexer": "ipython3",
   "version": "3.7.3"
  }
 },
 "nbformat": 4,
 "nbformat_minor": 2
}
