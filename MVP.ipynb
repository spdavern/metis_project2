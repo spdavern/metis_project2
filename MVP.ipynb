{
 "cells": [
  {
   "cell_type": "code",
   "execution_count": 1,
   "metadata": {},
   "outputs": [],
   "source": [
    "import pandas as pd\n",
    "import sys\n",
    "import os.path\n",
    "import pickle\n",
    "import time\n",
    "import re\n",
    "from sklearn.linear_model import LinearRegression\n",
    "from sklearn.metrics import mean_squared_error\n",
    "from sklearn.model_selection import train_test_split\n",
    "import matplotlib.pyplot as plt\n",
    "%matplotlib inline"
   ]
  },
  {
   "cell_type": "markdown",
   "metadata": {},
   "source": [
    "# Load\n",
    "Read the file resulting from the scraping:"
   ]
  },
  {
   "cell_type": "code",
   "execution_count": 2,
   "metadata": {},
   "outputs": [
    {
     "name": "stdout",
     "output_type": "stream",
     "text": [
      "3001  boats read from file into boats_df.\n"
     ]
    }
   ],
   "source": [
    "# Location of the dataframe pickle file containing all the boat data:\n",
    "boats_df_path = './data/boats_df.pkl'\n",
    "if os.path.isfile(boats_df_path):\n",
    "    df = pd.read_pickle(boats_df_path)\n",
    "    print(len(df),' boats read from file into boats_df.')"
   ]
  },
  {
   "cell_type": "code",
   "execution_count": 3,
   "metadata": {},
   "outputs": [
    {
     "data": {
      "text/html": [
       "<div>\n",
       "<style scoped>\n",
       "    .dataframe tbody tr th:only-of-type {\n",
       "        vertical-align: middle;\n",
       "    }\n",
       "\n",
       "    .dataframe tbody tr th {\n",
       "        vertical-align: top;\n",
       "    }\n",
       "\n",
       "    .dataframe thead th {\n",
       "        text-align: right;\n",
       "    }\n",
       "</style>\n",
       "<table border=\"1\" class=\"dataframe\">\n",
       "  <thead>\n",
       "    <tr style=\"text-align: right;\">\n",
       "      <th></th>\n",
       "      <th>price</th>\n",
       "      <th>make</th>\n",
       "      <th>model</th>\n",
       "      <th>year</th>\n",
       "      <th>cls</th>\n",
       "      <th>length_ft</th>\n",
       "      <th>LOA_ft</th>\n",
       "      <th>displacement_lb</th>\n",
       "      <th>fuel_type</th>\n",
       "      <th>power_hp</th>\n",
       "      <th>eng_make</th>\n",
       "      <th>eng_model</th>\n",
       "      <th>eng_year</th>\n",
       "      <th>eng_hrs</th>\n",
       "      <th>location</th>\n",
       "    </tr>\n",
       "  </thead>\n",
       "  <tbody>\n",
       "    <tr>\n",
       "      <td>5637501</td>\n",
       "      <td>Request Price</td>\n",
       "      <td>Bali</td>\n",
       "      <td>4.5</td>\n",
       "      <td>2020</td>\n",
       "      <td>Catamaran</td>\n",
       "      <td>45</td>\n",
       "      <td>45 ft</td>\n",
       "      <td>32800</td>\n",
       "      <td>Diesel</td>\n",
       "      <td>50</td>\n",
       "      <td>None</td>\n",
       "      <td>None</td>\n",
       "      <td>2016</td>\n",
       "      <td>50</td>\n",
       "      <td>All Locations, California</td>\n",
       "    </tr>\n",
       "    <tr>\n",
       "      <td>7213466</td>\n",
       "      <td>89500</td>\n",
       "      <td>Beneteau</td>\n",
       "      <td>OC 400</td>\n",
       "      <td>1996</td>\n",
       "      <td>Sloop</td>\n",
       "      <td>40</td>\n",
       "      <td>40 ft</td>\n",
       "      <td>19200</td>\n",
       "      <td>Diesel</td>\n",
       "      <td>None</td>\n",
       "      <td>Perkins</td>\n",
       "      <td>M-50</td>\n",
       "      <td>None</td>\n",
       "      <td>None</td>\n",
       "      <td>Kenosha , Wisconsin</td>\n",
       "    </tr>\n",
       "    <tr>\n",
       "      <td>7216014</td>\n",
       "      <td>125900</td>\n",
       "      <td>Hunter</td>\n",
       "      <td>466</td>\n",
       "      <td>2002</td>\n",
       "      <td>Cruiser (Sail)</td>\n",
       "      <td>46</td>\n",
       "      <td>46 ft 1 in</td>\n",
       "      <td>26180</td>\n",
       "      <td>Diesel</td>\n",
       "      <td>76</td>\n",
       "      <td>Yanmar</td>\n",
       "      <td>None</td>\n",
       "      <td>2002</td>\n",
       "      <td>938</td>\n",
       "      <td>Stamford, Connecticut</td>\n",
       "    </tr>\n",
       "    <tr>\n",
       "      <td>7191853</td>\n",
       "      <td>265000</td>\n",
       "      <td>Jeanneau</td>\n",
       "      <td>Sun Odyssey 419</td>\n",
       "      <td>2018</td>\n",
       "      <td>Cruiser (Sail)</td>\n",
       "      <td>42</td>\n",
       "      <td>41 ft 10 in</td>\n",
       "      <td>None</td>\n",
       "      <td>Diesel</td>\n",
       "      <td>45</td>\n",
       "      <td>Yanmar</td>\n",
       "      <td>None</td>\n",
       "      <td>None</td>\n",
       "      <td>300</td>\n",
       "      <td>Portsmouth, Rhode Island</td>\n",
       "    </tr>\n",
       "    <tr>\n",
       "      <td>7152732</td>\n",
       "      <td>388900</td>\n",
       "      <td>Fountaine Pajot</td>\n",
       "      <td>Orana 44</td>\n",
       "      <td>2012</td>\n",
       "      <td>Multi-Hull</td>\n",
       "      <td>44</td>\n",
       "      <td>44 ft</td>\n",
       "      <td>None</td>\n",
       "      <td>Diesel</td>\n",
       "      <td>None</td>\n",
       "      <td>Volvo Penta</td>\n",
       "      <td>D2-40</td>\n",
       "      <td>2012</td>\n",
       "      <td>5270</td>\n",
       "      <td>St Thomas, United States</td>\n",
       "    </tr>\n",
       "  </tbody>\n",
       "</table>\n",
       "</div>"
      ],
      "text/plain": [
       "                 price             make            model  year  \\\n",
       "5637501  Request Price             Bali              4.5  2020   \n",
       "7213466          89500         Beneteau           OC 400  1996   \n",
       "7216014         125900           Hunter              466  2002   \n",
       "7191853         265000         Jeanneau  Sun Odyssey 419  2018   \n",
       "7152732         388900  Fountaine Pajot         Orana 44  2012   \n",
       "\n",
       "                    cls length_ft       LOA_ft displacement_lb fuel_type  \\\n",
       "5637501       Catamaran        45        45 ft           32800    Diesel   \n",
       "7213466           Sloop        40        40 ft           19200    Diesel   \n",
       "7216014  Cruiser (Sail)        46   46 ft 1 in           26180    Diesel   \n",
       "7191853  Cruiser (Sail)        42  41 ft 10 in            None    Diesel   \n",
       "7152732      Multi-Hull        44        44 ft            None    Diesel   \n",
       "\n",
       "        power_hp     eng_make eng_model eng_year eng_hrs  \\\n",
       "5637501       50         None      None     2016      50   \n",
       "7213466     None      Perkins      M-50     None    None   \n",
       "7216014       76       Yanmar      None     2002     938   \n",
       "7191853       45       Yanmar      None     None     300   \n",
       "7152732     None  Volvo Penta     D2-40     2012    5270   \n",
       "\n",
       "                          location  \n",
       "5637501  All Locations, California  \n",
       "7213466        Kenosha , Wisconsin  \n",
       "7216014      Stamford, Connecticut  \n",
       "7191853   Portsmouth, Rhode Island  \n",
       "7152732   St Thomas, United States  "
      ]
     },
     "execution_count": 3,
     "metadata": {},
     "output_type": "execute_result"
    }
   ],
   "source": [
    "df.head()"
   ]
  },
  {
   "cell_type": "markdown",
   "metadata": {},
   "source": [
    "I'm going to rename the feature 'year' to 'year_str'"
   ]
  },
  {
   "cell_type": "code",
   "execution_count": 4,
   "metadata": {},
   "outputs": [],
   "source": [
    "df.rename(columns={'year':'year_str'},inplace=True)\n",
    "df.rename(columns={'price':'price_str'},inplace=True)"
   ]
  },
  {
   "cell_type": "markdown",
   "metadata": {},
   "source": [
    "# Clean\n",
    "Clean steps to prepare the data for modeling:"
   ]
  },
  {
   "cell_type": "code",
   "execution_count": 5,
   "metadata": {},
   "outputs": [],
   "source": [
    "# There are no null values in the year so it simply be converted to an int:\n",
    "df['year'] = df['year_str'].astype(int).copy()\n",
    "df['price'] = pd.to_numeric(df['price_str'],errors='coerce').copy()"
   ]
  },
  {
   "cell_type": "code",
   "execution_count": 6,
   "metadata": {},
   "outputs": [
    {
     "name": "stdout",
     "output_type": "stream",
     "text": [
      "<class 'pandas.core.frame.DataFrame'>\n",
      "Index: 3001 entries, 5637501 to 1015053\n",
      "Data columns (total 17 columns):\n",
      "price_str          3001 non-null object\n",
      "make               3001 non-null object\n",
      "model              2948 non-null object\n",
      "year_str           3001 non-null object\n",
      "cls                3001 non-null object\n",
      "length_ft          3001 non-null object\n",
      "LOA_ft             2709 non-null object\n",
      "displacement_lb    1466 non-null object\n",
      "fuel_type          2893 non-null object\n",
      "power_hp           2086 non-null object\n",
      "eng_make           2170 non-null object\n",
      "eng_model          1587 non-null object\n",
      "eng_year           1369 non-null object\n",
      "eng_hrs            1118 non-null object\n",
      "location           3001 non-null object\n",
      "year               3001 non-null int64\n",
      "price              757 non-null float64\n",
      "dtypes: float64(1), int64(1), object(15)\n",
      "memory usage: 422.0+ KB\n"
     ]
    }
   ],
   "source": [
    "df.info()"
   ]
  },
  {
   "cell_type": "markdown",
   "metadata": {},
   "source": [
    "Grab the parts of df that will be modeled and eliminate rows that have None's."
   ]
  },
  {
   "cell_type": "code",
   "execution_count": 7,
   "metadata": {},
   "outputs": [],
   "source": [
    "data = df.loc[:,['year','price']].copy()\n",
    "data.dropna(inplace=True)\n",
    "X = data[['year']]\n",
    "y = data['price']"
   ]
  },
  {
   "cell_type": "code",
   "execution_count": 8,
   "metadata": {},
   "outputs": [],
   "source": [
    "# Divide the data into test and train sets:\n",
    "X_train, X_test, y_train, y_test = train_test_split(X, y, test_size=.2, random_state=42)"
   ]
  },
  {
   "cell_type": "code",
   "execution_count": 9,
   "metadata": {
    "scrolled": true
   },
   "outputs": [],
   "source": [
    "# Create an empty model\n",
    "lr = LinearRegression()\n",
    "\n",
    "# Fit the model to the full dataset\n",
    "fit = lr.fit(pd.DataFrame(X_train), y_train)\n",
    "\n",
    "# Calculate R2 for the training set\n",
    "y_pred_train = fit.predict(pd.DataFrame(X_train))\n",
    "r2_train = fit.score(pd.DataFrame(X_train),y_train)\n",
    "\n",
    "# Calculate y_pred and R2 for the test set\n",
    "y_pred = fit.predict(pd.DataFrame(X_test))\n",
    "r2_test = fit.score(pd.DataFrame(X_test),y_test)"
   ]
  },
  {
   "cell_type": "code",
   "execution_count": 10,
   "metadata": {},
   "outputs": [],
   "source": [
    "r2_train = fit.score(pd.DataFrame(X_train),y_train)\n",
    "y_pred_test = fit.predict(X_test)\n",
    "y_pred_train = fit.predict(X_train)\n",
    "r2_test = fit.score(X_test,y_test)\n",
    "resid_train = y_train - y_pred_train\n",
    "resid_test = y_test - y_pred_test"
   ]
  },
  {
   "cell_type": "code",
   "execution_count": 11,
   "metadata": {},
   "outputs": [
    {
     "name": "stdout",
     "output_type": "stream",
     "text": [
      "RMSE_train:  162241.0\n",
      "RMSE_test:  118022.0\n"
     ]
    }
   ],
   "source": [
    "print('RMSE_train: ',round(mean_squared_error(y_train, y_pred_train)**0.5))\n",
    "print('RMSE_test: ',round(mean_squared_error(y_test, y_pred_test)**0.5))"
   ]
  },
  {
   "cell_type": "code",
   "execution_count": 12,
   "metadata": {},
   "outputs": [],
   "source": [
    "import matplotlib.ticker as ticker"
   ]
  },
  {
   "cell_type": "code",
   "execution_count": 13,
   "metadata": {},
   "outputs": [
    {
     "name": "stdout",
     "output_type": "stream",
     "text": [
      "R2 Train:  0.263\n",
      "R2 Test:  0.426\n"
     ]
    },
    {
     "data": {
      "image/png": "[encoded data removed]",
      "text/plain": [
       "<Figure size 432x288 with 1 Axes>"
      ]
     },
     "metadata": {
      "needs_background": "light"
     },
     "output_type": "display_data"
    }
   ],
   "source": [
    "#Plot the results\n",
    "fig,ax = plt.subplots(1,1);\n",
    "ax.scatter(y_pred_train/1000,y_train/1000,label='Training Data', s=100, alpha=0.2, color='Blue')\n",
    "ax.scatter(y_pred_test/1000,y_test/1000,label='Test Data', s=100, alpha=0.4, color='Orange')\n",
    "#ax.semilogy()\n",
    "ax.get_xaxis().set_major_formatter(\n",
    "    ticker.FuncFormatter(lambda x, p: format(int(x), ',')))\n",
    "ax.get_yaxis().set_major_formatter(\n",
    "    ticker.FuncFormatter(lambda x, p: format(int(x), ',')))\n",
    "ax.set_ylabel('Price actual ($1,000)')\n",
    "ax.set_xlabel('Price predicted ($1,000)')\n",
    "ax.legend();\n",
    "fig.savefig('./images/MVPActByPred.svg', format='svg', dpi=1200)\n",
    "print('R2 Train: ', round(r2_train,3))\n",
    "print('R2 Test: ', round(r2_test,3))"
   ]
  },
  {
   "cell_type": "markdown",
   "metadata": {},
   "source": [
    "This was the MVP linear regression."
   ]
  },
  {
   "cell_type": "code",
   "execution_count": 14,
   "metadata": {},
   "outputs": [
    {
     "data": {
      "image/png": "[encoded data removed]",
      "text/plain": [
       "<Figure size 432x288 with 1 Axes>"
      ]
     },
     "metadata": {
      "needs_background": "light"
     },
     "output_type": "display_data"
    }
   ],
   "source": [
    "#Plot Residual by Year\n",
    "fig,ax = plt.subplots(1,1);\n",
    "ax.scatter(X_train.year,resid_train/1000,label='Training Data', s=100, alpha=0.2, color='Blue')\n",
    "ax.scatter(X_test.year,resid_test/1000,label='Test Data', s=100, alpha=0.4, color='Orange')\n",
    "ax.set_ylim(top=1000)\n",
    "ax.get_yaxis().set_major_formatter(\n",
    "    ticker.FuncFormatter(lambda x, p: format(int(x), ',')))\n",
    "ax.set_ylabel('Residuals ($1,000)')\n",
    "ax.set_xlabel('Year')\n",
    "ax.legend(loc='upper center');\n",
    "fig.savefig('./images/MVPResByYear.svg', format='svg', dpi=1200)"
   ]
  },
  {
   "cell_type": "markdown",
   "metadata": {},
   "source": [
    "$Price = f(year)$"
   ]
  },
  {
   "cell_type": "code",
   "execution_count": null,
   "metadata": {},
   "outputs": [],
   "source": []
  }
 ],
 "metadata": {
  "kernelspec": {
   "display_name": "Python [conda env:metis] *",
   "language": "python",
   "name": "conda-env-metis-py"
  },
  "language_info": {
   "codemirror_mode": {
    "name": "ipython",
    "version": 3
   },
   "file_extension": ".py",
   "mimetype": "text/x-python",
   "name": "python",
   "nbconvert_exporter": "python",
   "pygments_lexer": "ipython3",
   "version": "3.7.3"
  }
 },
 "nbformat": 4,
 "nbformat_minor": 2
}
