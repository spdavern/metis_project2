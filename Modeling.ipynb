{
 "cells": [
  {
   "cell_type": "code",
   "execution_count": 1,
   "metadata": {},
   "outputs": [],
   "source": [
    "import pandas as pd\n",
    "import numpy as np\n",
    "import sys\n",
    "import os.path\n",
    "import pickle\n",
    "import time\n",
    "import re\n",
    "import math\n",
    "import sklearn_pandas\n",
    "from sklearn.linear_model import LinearRegression, LassoCV\n",
    "from sklearn.pipeline import FeatureUnion\n",
    "from sklearn.model_selection import train_test_split\n",
    "from sklearn.metrics import mean_squared_error, mean_absolute_error\n",
    "import matplotlib.pyplot as plt\n",
    "import matplotlib.ticker as ticker\n",
    "%matplotlib inline\n"
   ]
  },
  {
   "cell_type": "markdown",
   "metadata": {},
   "source": [
    "# Load\n",
    "Read the file resulting from the scraping:"
   ]
  },
  {
   "cell_type": "code",
   "execution_count": 2,
   "metadata": {},
   "outputs": [
    {
     "name": "stdout",
     "output_type": "stream",
     "text": [
      "3001  boats read from file into boats_df.\n"
     ]
    }
   ],
   "source": [
    "# Location of the dataframe pickle file containing all the boat data:\n",
    "boats_df_path = './data/boats_df.pkl'\n",
    "if os.path.isfile(boats_df_path):\n",
    "    df = pd.read_pickle(boats_df_path)\n",
    "    print(len(df),' boats read from file into boats_df.')"
   ]
  },
  {
   "cell_type": "code",
   "execution_count": 3,
   "metadata": {},
   "outputs": [
    {
     "data": {
      "text/html": [
       "<div>\n",
       "<style scoped>\n",
       "    .dataframe tbody tr th:only-of-type {\n",
       "        vertical-align: middle;\n",
       "    }\n",
       "\n",
       "    .dataframe tbody tr th {\n",
       "        vertical-align: top;\n",
       "    }\n",
       "\n",
       "    .dataframe thead th {\n",
       "        text-align: right;\n",
       "    }\n",
       "</style>\n",
       "<table border=\"1\" class=\"dataframe\">\n",
       "  <thead>\n",
       "    <tr style=\"text-align: right;\">\n",
       "      <th></th>\n",
       "      <th>price</th>\n",
       "      <th>make</th>\n",
       "      <th>model</th>\n",
       "      <th>year</th>\n",
       "      <th>cls</th>\n",
       "      <th>length_ft</th>\n",
       "      <th>LOA_ft</th>\n",
       "      <th>displacement_lb</th>\n",
       "      <th>fuel_type</th>\n",
       "      <th>power_hp</th>\n",
       "      <th>eng_make</th>\n",
       "      <th>eng_model</th>\n",
       "      <th>eng_year</th>\n",
       "      <th>eng_hrs</th>\n",
       "      <th>location</th>\n",
       "    </tr>\n",
       "  </thead>\n",
       "  <tbody>\n",
       "    <tr>\n",
       "      <td>5637501</td>\n",
       "      <td>Request Price</td>\n",
       "      <td>Bali</td>\n",
       "      <td>4.5</td>\n",
       "      <td>2020</td>\n",
       "      <td>Catamaran</td>\n",
       "      <td>45</td>\n",
       "      <td>45 ft</td>\n",
       "      <td>32800</td>\n",
       "      <td>Diesel</td>\n",
       "      <td>50</td>\n",
       "      <td>None</td>\n",
       "      <td>None</td>\n",
       "      <td>2016</td>\n",
       "      <td>50</td>\n",
       "      <td>All Locations, California</td>\n",
       "    </tr>\n",
       "    <tr>\n",
       "      <td>7213466</td>\n",
       "      <td>89500</td>\n",
       "      <td>Beneteau</td>\n",
       "      <td>OC 400</td>\n",
       "      <td>1996</td>\n",
       "      <td>Sloop</td>\n",
       "      <td>40</td>\n",
       "      <td>40 ft</td>\n",
       "      <td>19200</td>\n",
       "      <td>Diesel</td>\n",
       "      <td>None</td>\n",
       "      <td>Perkins</td>\n",
       "      <td>M-50</td>\n",
       "      <td>None</td>\n",
       "      <td>None</td>\n",
       "      <td>Kenosha , Wisconsin</td>\n",
       "    </tr>\n",
       "    <tr>\n",
       "      <td>7216014</td>\n",
       "      <td>125900</td>\n",
       "      <td>Hunter</td>\n",
       "      <td>466</td>\n",
       "      <td>2002</td>\n",
       "      <td>Cruiser (Sail)</td>\n",
       "      <td>46</td>\n",
       "      <td>46 ft 1 in</td>\n",
       "      <td>26180</td>\n",
       "      <td>Diesel</td>\n",
       "      <td>76</td>\n",
       "      <td>Yanmar</td>\n",
       "      <td>None</td>\n",
       "      <td>2002</td>\n",
       "      <td>938</td>\n",
       "      <td>Stamford, Connecticut</td>\n",
       "    </tr>\n",
       "    <tr>\n",
       "      <td>7191853</td>\n",
       "      <td>265000</td>\n",
       "      <td>Jeanneau</td>\n",
       "      <td>Sun Odyssey 419</td>\n",
       "      <td>2018</td>\n",
       "      <td>Cruiser (Sail)</td>\n",
       "      <td>42</td>\n",
       "      <td>41 ft 10 in</td>\n",
       "      <td>None</td>\n",
       "      <td>Diesel</td>\n",
       "      <td>45</td>\n",
       "      <td>Yanmar</td>\n",
       "      <td>None</td>\n",
       "      <td>None</td>\n",
       "      <td>300</td>\n",
       "      <td>Portsmouth, Rhode Island</td>\n",
       "    </tr>\n",
       "    <tr>\n",
       "      <td>7152732</td>\n",
       "      <td>388900</td>\n",
       "      <td>Fountaine Pajot</td>\n",
       "      <td>Orana 44</td>\n",
       "      <td>2012</td>\n",
       "      <td>Multi-Hull</td>\n",
       "      <td>44</td>\n",
       "      <td>44 ft</td>\n",
       "      <td>None</td>\n",
       "      <td>Diesel</td>\n",
       "      <td>None</td>\n",
       "      <td>Volvo Penta</td>\n",
       "      <td>D2-40</td>\n",
       "      <td>2012</td>\n",
       "      <td>5270</td>\n",
       "      <td>St Thomas, United States</td>\n",
       "    </tr>\n",
       "  </tbody>\n",
       "</table>\n",
       "</div>"
      ],
      "text/plain": [
       "                 price             make            model  year  \\\n",
       "5637501  Request Price             Bali              4.5  2020   \n",
       "7213466          89500         Beneteau           OC 400  1996   \n",
       "7216014         125900           Hunter              466  2002   \n",
       "7191853         265000         Jeanneau  Sun Odyssey 419  2018   \n",
       "7152732         388900  Fountaine Pajot         Orana 44  2012   \n",
       "\n",
       "                    cls length_ft       LOA_ft displacement_lb fuel_type  \\\n",
       "5637501       Catamaran        45        45 ft           32800    Diesel   \n",
       "7213466           Sloop        40        40 ft           19200    Diesel   \n",
       "7216014  Cruiser (Sail)        46   46 ft 1 in           26180    Diesel   \n",
       "7191853  Cruiser (Sail)        42  41 ft 10 in            None    Diesel   \n",
       "7152732      Multi-Hull        44        44 ft            None    Diesel   \n",
       "\n",
       "        power_hp     eng_make eng_model eng_year eng_hrs  \\\n",
       "5637501       50         None      None     2016      50   \n",
       "7213466     None      Perkins      M-50     None    None   \n",
       "7216014       76       Yanmar      None     2002     938   \n",
       "7191853       45       Yanmar      None     None     300   \n",
       "7152732     None  Volvo Penta     D2-40     2012    5270   \n",
       "\n",
       "                          location  \n",
       "5637501  All Locations, California  \n",
       "7213466        Kenosha , Wisconsin  \n",
       "7216014      Stamford, Connecticut  \n",
       "7191853   Portsmouth, Rhode Island  \n",
       "7152732   St Thomas, United States  "
      ]
     },
     "execution_count": 3,
     "metadata": {},
     "output_type": "execute_result"
    }
   ],
   "source": [
    "df.head()"
   ]
  },
  {
   "cell_type": "markdown",
   "metadata": {},
   "source": [
    "I'm going to rename the feature 'year' to 'year_str'"
   ]
  },
  {
   "cell_type": "code",
   "execution_count": 4,
   "metadata": {},
   "outputs": [],
   "source": [
    "df.rename(columns={'year':'year_str'},inplace=True)\n",
    "df.rename(columns={'price':'price_str'},inplace=True)"
   ]
  },
  {
   "cell_type": "markdown",
   "metadata": {},
   "source": [
    "# Clean\n",
    "Clean steps to prepare the data for modeling:"
   ]
  },
  {
   "cell_type": "code",
   "execution_count": 5,
   "metadata": {},
   "outputs": [
    {
     "data": {
      "text/html": [
       "<div>\n",
       "<style scoped>\n",
       "    .dataframe tbody tr th:only-of-type {\n",
       "        vertical-align: middle;\n",
       "    }\n",
       "\n",
       "    .dataframe tbody tr th {\n",
       "        vertical-align: top;\n",
       "    }\n",
       "\n",
       "    .dataframe thead th {\n",
       "        text-align: right;\n",
       "    }\n",
       "</style>\n",
       "<table border=\"1\" class=\"dataframe\">\n",
       "  <thead>\n",
       "    <tr style=\"text-align: right;\">\n",
       "      <th></th>\n",
       "      <th>length_ft</th>\n",
       "      <th>year</th>\n",
       "    </tr>\n",
       "  </thead>\n",
       "  <tbody>\n",
       "    <tr>\n",
       "      <td>count</td>\n",
       "      <td>3001.000000</td>\n",
       "      <td>3001.000000</td>\n",
       "    </tr>\n",
       "    <tr>\n",
       "      <td>mean</td>\n",
       "      <td>44.270910</td>\n",
       "      <td>2001.953682</td>\n",
       "    </tr>\n",
       "    <tr>\n",
       "      <td>std</td>\n",
       "      <td>2.981652</td>\n",
       "      <td>13.748413</td>\n",
       "    </tr>\n",
       "    <tr>\n",
       "      <td>min</td>\n",
       "      <td>40.000000</td>\n",
       "      <td>1860.000000</td>\n",
       "    </tr>\n",
       "    <tr>\n",
       "      <td>25%</td>\n",
       "      <td>42.000000</td>\n",
       "      <td>1996.000000</td>\n",
       "    </tr>\n",
       "    <tr>\n",
       "      <td>50%</td>\n",
       "      <td>44.000000</td>\n",
       "      <td>2005.000000</td>\n",
       "    </tr>\n",
       "    <tr>\n",
       "      <td>75%</td>\n",
       "      <td>46.000000</td>\n",
       "      <td>2011.000000</td>\n",
       "    </tr>\n",
       "    <tr>\n",
       "      <td>max</td>\n",
       "      <td>50.000000</td>\n",
       "      <td>2020.000000</td>\n",
       "    </tr>\n",
       "  </tbody>\n",
       "</table>\n",
       "</div>"
      ],
      "text/plain": [
       "         length_ft         year\n",
       "count  3001.000000  3001.000000\n",
       "mean     44.270910  2001.953682\n",
       "std       2.981652    13.748413\n",
       "min      40.000000  1860.000000\n",
       "25%      42.000000  1996.000000\n",
       "50%      44.000000  2005.000000\n",
       "75%      46.000000  2011.000000\n",
       "max      50.000000  2020.000000"
      ]
     },
     "execution_count": 5,
     "metadata": {},
     "output_type": "execute_result"
    }
   ],
   "source": [
    "# There are no null values in the year or length so they can simply be converted to int:\n",
    "df['year'] = df['year_str'].astype(int)\n",
    "df['length_ft'] = df['length_ft'].astype(int)\n",
    "df.describe()"
   ]
  },
  {
   "cell_type": "markdown",
   "metadata": {},
   "source": [
    "# Price\n",
    "The MVP coerced the price strings to floats which returned `None`'s for all values in\n",
    "currency other than US$.  I'll fix that now.  I need ASCII codes for Euro and pound:\n",
    "\n",
    "$ \\def\\euro{\\unicode{x20AC}}$\n",
    "$ \\def\\yen{\\unicode{x00A5}}$\n",
    "$ \\def\\pound{\\unicode{x00A3}}$\n",
    "$ \\def\\dollar{\\unicode{x024}}$\n",
    "$euro = \\euro$ is ASCII 8364  \n",
    "$pound = \\pound$ is ASCII 163"
   ]
  },
  {
   "cell_type": "code",
   "execution_count": 6,
   "metadata": {},
   "outputs": [
    {
     "name": "stdout",
     "output_type": "stream",
     "text": [
      "euro =  €\n",
      "pound =  £\n"
     ]
    }
   ],
   "source": [
    "print('euro = ',chr(8364))\n",
    "print('pound = ',chr(163))"
   ]
  },
  {
   "cell_type": "markdown",
   "metadata": {},
   "source": [
    "This function is designed to be used with df.apply() to convert the \n",
    "column 'price_str' to Oct 8, 2019 US$'s."
   ]
  },
  {
   "cell_type": "code",
   "execution_count": 7,
   "metadata": {
    "scrolled": true
   },
   "outputs": [
    {
     "data": {
      "text/plain": [
       "count    2.912000e+03\n",
       "mean     1.821184e+05\n",
       "std      1.378925e+05\n",
       "min      9.760000e+03\n",
       "25%      9.570000e+04\n",
       "50%      1.430000e+05\n",
       "75%      2.220500e+05\n",
       "max      3.000000e+06\n",
       "Name: price_USD, dtype: float64"
      ]
     },
     "execution_count": 7,
     "metadata": {},
     "output_type": "execute_result"
    }
   ],
   "source": [
    "def Currency_Converter(row):\n",
    "    \"\"\"\n",
    "    Coverts dataframe series values named 'price_str' to US$\n",
    "    using converstion rates on 10/8/2019\n",
    "    \"\"\"\n",
    "\n",
    "    first_price_char = row.price_str.strip()[0]\n",
    "    if row.price_str == 'Request Price':  # New Boat\n",
    "        return None\n",
    "    price = float(re.search('\\d+', row.price_str).group(0))\n",
    "    if re.match(r'\\d',first_price_char):  # US$\n",
    "        return price\n",
    "    if first_price_char == chr(8364):  # Euro\n",
    "        return price * 1.10\n",
    "    if first_price_char == chr(163):  # British Pound\n",
    "        return price * 1.22\n",
    "    if first_price_char == 'A':   # Austrialian $\n",
    "        return price * 0.67\n",
    "    if row.price_str[:2] == 'CA':\n",
    "        return price * 0.75\n",
    "    if row.price_str[:2] == 'NZ':\n",
    "        return price * 0.63\n",
    "    if row.price_str[:3] == 'Dkr':\n",
    "        return price * 0.15\n",
    "    return None\n",
    "\n",
    "# Prices had 'US$' stripped but for other denominations there are still symbol characters:\n",
    "# Convert all price strings to US$ using Currency_Converter above\n",
    "df['price_USD'] = df.apply(Currency_Converter,axis=1).copy()\n",
    "df.price_USD.describe()"
   ]
  },
  {
   "cell_type": "code",
   "execution_count": 8,
   "metadata": {},
   "outputs": [
    {
     "data": {
      "text/plain": [
       "Euro     1813\n",
       "US$       757\n",
       "Pound     269\n",
       "Aus$       35\n",
       "CA$        34\n",
       "Dkr         2\n",
       "NZ$         2\n",
       "Name: Cur, dtype: int64"
      ]
     },
     "execution_count": 8,
     "metadata": {},
     "output_type": "execute_result"
    }
   ],
   "source": [
    "def Currency(row):\n",
    "    \"\"\"\n",
    "    Interprets currency from the dataframe series values named 'price_str'\n",
    "    \"\"\"\n",
    "\n",
    "    first_price_char = row.price_str.strip()[0]\n",
    "    if row.price_str == 'Request Price':  # New Boat\n",
    "        return None\n",
    "    price = float(re.search('\\d+', row.price_str).group(0))\n",
    "    if re.match(r'\\d',first_price_char):  # US$\n",
    "        return 'US$'\n",
    "    if first_price_char == chr(8364):  # Euro\n",
    "        return 'Euro'\n",
    "    if first_price_char == chr(163):  # British Pound\n",
    "        return 'Pound'\n",
    "    if first_price_char == 'A':   # Austrialian $\n",
    "        return 'Aus$'\n",
    "    if row.price_str[:2] == 'CA':\n",
    "        return 'CA$'\n",
    "    if row.price_str[:2] == 'NZ':\n",
    "        return 'NZ$'\n",
    "    if row.price_str[:3] == 'Dkr':\n",
    "        return 'Dkr'\n",
    "    return 'US$'\n",
    "df['Cur'] = df.apply(Currency,axis=1).copy()\n",
    "df['Cur'].value_counts()"
   ]
  },
  {
   "cell_type": "markdown",
   "metadata": {},
   "source": [
    "# Data Cleaning"
   ]
  },
  {
   "cell_type": "code",
   "execution_count": 9,
   "metadata": {},
   "outputs": [],
   "source": [
    "# I'm going to drop the 2 high outlier price values\n",
    "df.drop(df.price_USD.idxmax(), inplace=True)\n",
    "df.drop(df.price_USD.idxmax(), inplace=True)\n",
    "# There is 1 boat of type class identified as 'Commercial Boat (Sail)'\n",
    "# I'm going to change it to 'Cruiser/Racer'\n",
    "df.loc[df[df.cls == 'Commercial Boat (Sail)'].index,['cls']] = 'Cruiser/Racer'\n",
    "# I'll make the capitalization of the makes contistent:\n",
    "df['make'] = df['make'].str.title()"
   ]
  },
  {
   "cell_type": "markdown",
   "metadata": {},
   "source": [
    "Lets see if we can bring in make:"
   ]
  },
  {
   "cell_type": "code",
   "execution_count": 10,
   "metadata": {},
   "outputs": [
    {
     "data": {
      "text/plain": [
       "404"
      ]
     },
     "execution_count": 10,
     "metadata": {},
     "output_type": "execute_result"
    }
   ],
   "source": [
    "makes = df['make'].value_counts()\n",
    "len(makes)"
   ]
  },
  {
   "cell_type": "markdown",
   "metadata": {},
   "source": [
    "If I aggregate makes that have fewer than 3 boats into make=\"Others\" I'll have this many factors:"
   ]
  },
  {
   "cell_type": "code",
   "execution_count": 11,
   "metadata": {},
   "outputs": [
    {
     "data": {
      "text/plain": [
       "106"
      ]
     },
     "execution_count": 11,
     "metadata": {},
     "output_type": "execute_result"
    }
   ],
   "source": [
    "len(makes[df['make'].value_counts() > 2])"
   ]
  },
  {
   "cell_type": "code",
   "execution_count": 12,
   "metadata": {
    "scrolled": true
   },
   "outputs": [
    {
     "data": {
      "text/plain": [
       "354"
      ]
     },
     "execution_count": 12,
     "metadata": {},
     "output_type": "execute_result"
    }
   ],
   "source": [
    "sum(makes[df['make'].value_counts() < 3])"
   ]
  },
  {
   "cell_type": "code",
   "execution_count": 13,
   "metadata": {},
   "outputs": [
    {
     "data": {
      "text/plain": [
       "Taswell          2\n",
       "Reliance         2\n",
       "Irwin            2\n",
       "Stamas           2\n",
       "Shark            2\n",
       "                ..\n",
       "Caroff 47        1\n",
       "Voyage Yachts    1\n",
       "Alden            1\n",
       "Admiral          1\n",
       "Majestic         1\n",
       "Name: make, Length: 298, dtype: int64"
      ]
     },
     "execution_count": 13,
     "metadata": {},
     "output_type": "execute_result"
    }
   ],
   "source": [
    "makes[df['make'].value_counts() < 3]"
   ]
  },
  {
   "cell_type": "markdown",
   "metadata": {},
   "source": [
    "Creating a feature in df called mfg:"
   ]
  },
  {
   "cell_type": "code",
   "execution_count": 14,
   "metadata": {},
   "outputs": [
    {
     "name": "stdout",
     "output_type": "stream",
     "text": [
      "Number of boats categrized as \"Other\":  354\n",
      "Number of Mfgs:  107\n"
     ]
    }
   ],
   "source": [
    "makes = df['make'].value_counts()\n",
    "makes = makes[df['make'].value_counts() > 2]\n",
    "df['mfg'] = df.make.apply(lambda make: make if make in makes else 'Other')\n",
    "print('Number of boats categrized as \"Other\": ',len(df[df.mfg == 'Other']))\n",
    "print('Number of Mfgs: ', len(df['mfg'].value_counts()))"
   ]
  },
  {
   "cell_type": "code",
   "execution_count": 15,
   "metadata": {},
   "outputs": [
    {
     "data": {
      "text/plain": [
       "Cruiser (Sail)                2255\n",
       "Cruiser/Racer                  229\n",
       "Sloop                          147\n",
       "Multi-Hull                      98\n",
       "Catamaran                       73\n",
       "Center Cockpit                  44\n",
       "Racer                           36\n",
       "Ketch                           32\n",
       "Cutter                          29\n",
       "Antique and Classic (Sail)      18\n",
       "Deck Saloon                     17\n",
       "Pilothouse (Sail)                8\n",
       "Daysailer                        6\n",
       "Motorsailer (Sail)               4\n",
       "Schooner                         3\n",
       "Name: cls, dtype: int64"
      ]
     },
     "execution_count": 15,
     "metadata": {},
     "output_type": "execute_result"
    }
   ],
   "source": [
    "df.cls.value_counts()"
   ]
  },
  {
   "cell_type": "code",
   "execution_count": 16,
   "metadata": {
    "scrolled": true
   },
   "outputs": [],
   "source": [
    "#df.info()"
   ]
  },
  {
   "cell_type": "markdown",
   "metadata": {},
   "source": [
    "Grab the parts of df that will be modeled and eliminate rows that have None's."
   ]
  },
  {
   "cell_type": "code",
   "execution_count": 17,
   "metadata": {},
   "outputs": [],
   "source": [
    "data = df.loc[:,['year','price_USD','length_ft', 'mfg', 'cls']].copy()\n",
    "#data = df.loc[:,['year','price_USD','length_ft', 'mfg', 'cls', 'Cur']].copy()\n",
    "data.dropna(inplace=True)\n",
    "X = data[['year', 'length_ft', 'mfg', 'cls']]\n",
    "#X = data[['year', 'length_ft', 'mfg', 'cls', 'Cur']]\n",
    "y = data['price_USD']"
   ]
  },
  {
   "cell_type": "code",
   "execution_count": 18,
   "metadata": {},
   "outputs": [],
   "source": [
    "# Divide the data into test and train sets:\n",
    "X_train, X_test, lny_train, lny_test = train_test_split(X, np.log(y), test_size=.2, random_state=42)"
   ]
  },
  {
   "cell_type": "code",
   "execution_count": 19,
   "metadata": {},
   "outputs": [],
   "source": [
    "from sklearn_pandas import DataFrameMapper\n",
    "from sklearn.preprocessing import FunctionTransformer\n",
    "from sklearn.preprocessing import StandardScaler, OneHotEncoder\n",
    "from sklearn.pipeline import FeatureUnion\n",
    "from sklearn.pipeline import make_pipeline\n",
    "#posTransform = make_pipeline(FunctionTransformer(np.log), StandardScaler())\n",
    "    # (['Lot Area', 'Gr Liv Area'], posTransform),\n",
    "mapper = DataFrameMapper([\n",
    "        (['year', 'length_ft'], StandardScaler()),\n",
    "        (['mfg', 'cls'], OneHotEncoder())\n",
    "        ])\n",
    "# mapper = DataFrameMapper([\n",
    "#         (['year', 'length_ft'], StandardScaler()),\n",
    "#         (['mfg', 'cls', 'Cur'], OneHotEncoder())\n",
    "#         ])\n",
    "\n",
    "pipe = make_pipeline(mapper, LassoCV(cv=5, alphas=np.logspace(-2,-5,100)))\n",
    "#pipe = make_pipeline(mapper, LinearRegression())"
   ]
  },
  {
   "cell_type": "code",
   "execution_count": 20,
   "metadata": {},
   "outputs": [
    {
     "data": {
      "text/plain": [
       "Pipeline(memory=None,\n",
       "         steps=[('dataframemapper',\n",
       "                 DataFrameMapper(default=False, df_out=False,\n",
       "                                 features=[(['year', 'length_ft'],\n",
       "                                            StandardScaler(copy=True,\n",
       "                                                           with_mean=True,\n",
       "                                                           with_std=True)),\n",
       "                                           (['mfg', 'cls'],\n",
       "                                            OneHotEncoder(categorical_features=None,\n",
       "                                                          categories=None,\n",
       "                                                          drop=None,\n",
       "                                                          dtype=<class 'numpy.float64'>,\n",
       "                                                          handle_unknown='error',\n",
       "                                                          n_values=None,\n",
       "                                                          sparse=True))],\n",
       "                                 input_df=F...\n",
       "       2.15443469e-05, 2.00923300e-05, 1.87381742e-05, 1.74752840e-05,\n",
       "       1.62975083e-05, 1.51991108e-05, 1.41747416e-05, 1.32194115e-05,\n",
       "       1.23284674e-05, 1.14975700e-05, 1.07226722e-05, 1.00000000e-05]),\n",
       "                         copy_X=True, cv=5, eps=0.001, fit_intercept=True,\n",
       "                         max_iter=1000, n_alphas=100, n_jobs=None,\n",
       "                         normalize=False, positive=False, precompute='auto',\n",
       "                         random_state=None, selection='cyclic', tol=0.0001,\n",
       "                         verbose=False))],\n",
       "         verbose=False)"
      ]
     },
     "execution_count": 20,
     "metadata": {},
     "output_type": "execute_result"
    }
   ],
   "source": [
    "pipe.fit(X_train,lny_train)"
   ]
  },
  {
   "cell_type": "code",
   "execution_count": 21,
   "metadata": {},
   "outputs": [],
   "source": [
    "lcv = pipe.steps[1][1]"
   ]
  },
  {
   "cell_type": "code",
   "execution_count": 22,
   "metadata": {
    "scrolled": true
   },
   "outputs": [
    {
     "data": {
      "text/plain": [
       "0.5555555555555556"
      ]
     },
     "execution_count": 22,
     "metadata": {},
     "output_type": "execute_result"
    }
   ],
   "source": [
    "(np.log(lcv.alphas_[0]) - np.log(lcv.alpha_))/(np.log(lcv.alphas_[0]) - np.log(lcv.alphas_[-1]))"
   ]
  },
  {
   "cell_type": "code",
   "execution_count": 23,
   "metadata": {},
   "outputs": [
    {
     "name": "stdout",
     "output_type": "stream",
     "text": [
      "Coeficients = 0:  26\n",
      "Total Coefficiencts:  124\n"
     ]
    }
   ],
   "source": [
    "print('Coeficients = 0: ', len(lcv.coef_[lcv.coef_==0]))\n",
    "print('Total Coefficiencts: ', len(lcv.coef_))"
   ]
  },
  {
   "cell_type": "code",
   "execution_count": 24,
   "metadata": {},
   "outputs": [],
   "source": [
    "dfm = pipe.steps[0][1]"
   ]
  },
  {
   "cell_type": "markdown",
   "metadata": {},
   "source": [
    "These are the coefficients that were zeroed:"
   ]
  },
  {
   "cell_type": "code",
   "execution_count": 25,
   "metadata": {},
   "outputs": [
    {
     "data": {
      "text/html": [
       "<div>\n",
       "<style scoped>\n",
       "    .dataframe tbody tr th:only-of-type {\n",
       "        vertical-align: middle;\n",
       "    }\n",
       "\n",
       "    .dataframe tbody tr th {\n",
       "        vertical-align: top;\n",
       "    }\n",
       "\n",
       "    .dataframe thead th {\n",
       "        text-align: right;\n",
       "    }\n",
       "</style>\n",
       "<table border=\"1\" class=\"dataframe\">\n",
       "  <thead>\n",
       "    <tr style=\"text-align: right;\">\n",
       "      <th></th>\n",
       "      <th>0</th>\n",
       "    </tr>\n",
       "  </thead>\n",
       "  <tbody>\n",
       "    <tr>\n",
       "      <td>8</td>\n",
       "      <td>mfg_cls_x0_Belliure</td>\n",
       "    </tr>\n",
       "    <tr>\n",
       "      <td>11</td>\n",
       "      <td>mfg_cls_x0_Bowman</td>\n",
       "    </tr>\n",
       "    <tr>\n",
       "      <td>17</td>\n",
       "      <td>mfg_cls_x0_Cal</td>\n",
       "    </tr>\n",
       "    <tr>\n",
       "      <td>22</td>\n",
       "      <td>mfg_cls_x0_Catana</td>\n",
       "    </tr>\n",
       "    <tr>\n",
       "      <td>24</td>\n",
       "      <td>mfg_cls_x0_Colin Archer</td>\n",
       "    </tr>\n",
       "    <tr>\n",
       "      <td>26</td>\n",
       "      <td>mfg_cls_x0_Comfortina</td>\n",
       "    </tr>\n",
       "    <tr>\n",
       "      <td>35</td>\n",
       "      <td>mfg_cls_x0_Endurance</td>\n",
       "    </tr>\n",
       "    <tr>\n",
       "      <td>42</td>\n",
       "      <td>mfg_cls_x0_Garcia</td>\n",
       "    </tr>\n",
       "    <tr>\n",
       "      <td>55</td>\n",
       "      <td>mfg_cls_x0_J Boats</td>\n",
       "    </tr>\n",
       "    <tr>\n",
       "      <td>60</td>\n",
       "      <td>mfg_cls_x0_Laurent Giles</td>\n",
       "    </tr>\n",
       "    <tr>\n",
       "      <td>64</td>\n",
       "      <td>mfg_cls_x0_Marlow-Hunter</td>\n",
       "    </tr>\n",
       "    <tr>\n",
       "      <td>65</td>\n",
       "      <td>mfg_cls_x0_Mason</td>\n",
       "    </tr>\n",
       "    <tr>\n",
       "      <td>66</td>\n",
       "      <td>mfg_cls_x0_Meta</td>\n",
       "    </tr>\n",
       "    <tr>\n",
       "      <td>67</td>\n",
       "      <td>mfg_cls_x0_Moody</td>\n",
       "    </tr>\n",
       "    <tr>\n",
       "      <td>71</td>\n",
       "      <td>mfg_cls_x0_Nauticat</td>\n",
       "    </tr>\n",
       "    <tr>\n",
       "      <td>80</td>\n",
       "      <td>mfg_cls_x0_Pardo</td>\n",
       "    </tr>\n",
       "    <tr>\n",
       "      <td>83</td>\n",
       "      <td>mfg_cls_x0_Privilege</td>\n",
       "    </tr>\n",
       "    <tr>\n",
       "      <td>84</td>\n",
       "      <td>mfg_cls_x0_Prout</td>\n",
       "    </tr>\n",
       "    <tr>\n",
       "      <td>87</td>\n",
       "      <td>mfg_cls_x0_Saga</td>\n",
       "    </tr>\n",
       "    <tr>\n",
       "      <td>92</td>\n",
       "      <td>mfg_cls_x0_Sly</td>\n",
       "    </tr>\n",
       "    <tr>\n",
       "      <td>101</td>\n",
       "      <td>mfg_cls_x0_Trintella</td>\n",
       "    </tr>\n",
       "    <tr>\n",
       "      <td>103</td>\n",
       "      <td>mfg_cls_x0_Valiant</td>\n",
       "    </tr>\n",
       "    <tr>\n",
       "      <td>104</td>\n",
       "      <td>mfg_cls_x0_Van De Stadt</td>\n",
       "    </tr>\n",
       "    <tr>\n",
       "      <td>111</td>\n",
       "      <td>mfg_cls_x1_Center Cockpit</td>\n",
       "    </tr>\n",
       "    <tr>\n",
       "      <td>115</td>\n",
       "      <td>mfg_cls_x1_Daysailer</td>\n",
       "    </tr>\n",
       "    <tr>\n",
       "      <td>118</td>\n",
       "      <td>mfg_cls_x1_Motorsailer (Sail)</td>\n",
       "    </tr>\n",
       "  </tbody>\n",
       "</table>\n",
       "</div>"
      ],
      "text/plain": [
       "                                 0\n",
       "8              mfg_cls_x0_Belliure\n",
       "11               mfg_cls_x0_Bowman\n",
       "17                  mfg_cls_x0_Cal\n",
       "22               mfg_cls_x0_Catana\n",
       "24         mfg_cls_x0_Colin Archer\n",
       "26           mfg_cls_x0_Comfortina\n",
       "35            mfg_cls_x0_Endurance\n",
       "42               mfg_cls_x0_Garcia\n",
       "55              mfg_cls_x0_J Boats\n",
       "60        mfg_cls_x0_Laurent Giles\n",
       "64        mfg_cls_x0_Marlow-Hunter\n",
       "65                mfg_cls_x0_Mason\n",
       "66                 mfg_cls_x0_Meta\n",
       "67                mfg_cls_x0_Moody\n",
       "71             mfg_cls_x0_Nauticat\n",
       "80                mfg_cls_x0_Pardo\n",
       "83            mfg_cls_x0_Privilege\n",
       "84                mfg_cls_x0_Prout\n",
       "87                 mfg_cls_x0_Saga\n",
       "92                  mfg_cls_x0_Sly\n",
       "101           mfg_cls_x0_Trintella\n",
       "103             mfg_cls_x0_Valiant\n",
       "104        mfg_cls_x0_Van De Stadt\n",
       "111      mfg_cls_x1_Center Cockpit\n",
       "115           mfg_cls_x1_Daysailer\n",
       "118  mfg_cls_x1_Motorsailer (Sail)"
      ]
     },
     "execution_count": 25,
     "metadata": {},
     "output_type": "execute_result"
    }
   ],
   "source": [
    "pd.DataFrame(dfm.transformed_names_)[lcv.coef_==0]"
   ]
  },
  {
   "cell_type": "code",
   "execution_count": 26,
   "metadata": {
    "scrolled": true
   },
   "outputs": [
    {
     "data": {
      "text/plain": [
       "0.00021544346900318823"
      ]
     },
     "execution_count": 26,
     "metadata": {},
     "output_type": "execute_result"
    }
   ],
   "source": [
    "lcv.alpha_"
   ]
  },
  {
   "cell_type": "code",
   "execution_count": 27,
   "metadata": {},
   "outputs": [
    {
     "data": {
      "image/png": "[encoded data removed]",
      "text/plain": [
       "<Figure size 432x288 with 1 Axes>"
      ]
     },
     "metadata": {
      "needs_background": "light"
     },
     "output_type": "display_data"
    }
   ],
   "source": [
    "plt.plot(lcv.alphas_)\n",
    "plt.hlines(lcv.alpha_,0,100)\n",
    "#plt.plot(np.logspace(-1,-4,100))\n",
    "plt.semilogy();"
   ]
  },
  {
   "cell_type": "code",
   "execution_count": 28,
   "metadata": {},
   "outputs": [],
   "source": [
    "y_pred_test = np.exp(pipe.predict(X_test))\n",
    "y_pred_train = np.exp(pipe.predict(X_train))\n",
    "resid_train = lny_train - pipe.predict(X_train)\n",
    "resid_test = lny_test - pipe.predict(X_test)\n",
    "r2_train = pipe.score(X_train,lny_train)\n",
    "r2_test = pipe.score(X_test,lny_test)\n",
    "MSE_test = mean_squared_error(lny_test,pipe.predict(X_test))\n",
    "MSE_train = mean_squared_error(lny_train,pipe.predict(X_train))\n",
    "RMSE_test = math.sqrt(MSE_test)\n",
    "RMSE_train = math.sqrt(MSE_train)\n",
    "MAE_test = mean_absolute_error(lny_test,pipe.predict(X_test))\n",
    "MAE_train = mean_absolute_error(lny_train,pipe.predict(X_train))"
   ]
  },
  {
   "cell_type": "code",
   "execution_count": 29,
   "metadata": {},
   "outputs": [
    {
     "data": {
      "text/plain": [
       "array([12.53848528, 11.72557163, 11.63910537, ..., 10.91753906,\n",
       "       12.0681376 , 11.25002918])"
      ]
     },
     "execution_count": 29,
     "metadata": {},
     "output_type": "execute_result"
    }
   ],
   "source": [
    "pipe.predict(X_train)"
   ]
  },
  {
   "cell_type": "code",
   "execution_count": 30,
   "metadata": {
    "scrolled": true
   },
   "outputs": [
    {
     "name": "stdout",
     "output_type": "stream",
     "text": [
      "RMSE_test: 0.347 RMSE_train: 0.384\n",
      "MAE_test: 0.254 MAE_train: 0.271\n"
     ]
    }
   ],
   "source": [
    "print('RMSE_test:',round(RMSE_test,3),'RMSE_train:',round(RMSE_train,3))\n",
    "print('MAE_test:',round(MAE_test,3),'MAE_train:',round(MAE_train,3))"
   ]
  },
  {
   "cell_type": "code",
   "execution_count": 31,
   "metadata": {},
   "outputs": [
    {
     "name": "stdout",
     "output_type": "stream",
     "text": [
      "Percent error for MAE=0.26: 1.2999843209186805\n"
     ]
    }
   ],
   "source": [
    "print('Percent error for MAE=0.26:',math.exp((MAE_test + MAE_train)/2))"
   ]
  },
  {
   "cell_type": "code",
   "execution_count": 32,
   "metadata": {
    "scrolled": false
   },
   "outputs": [
    {
     "name": "stdout",
     "output_type": "stream",
     "text": [
      "R2 Train:  0.635\n",
      "R2 Test:  0.674\n"
     ]
    },
    {
     "data": {
      "image/png": "[encoded data removed]",
      "text/plain": [
       "<Figure size 432x288 with 1 Axes>"
      ]
     },
     "metadata": {
      "needs_background": "light"
     },
     "output_type": "display_data"
    }
   ],
   "source": [
    "#Plot the Actual by Predicted\n",
    "fig,ax = plt.subplots(1,1);\n",
    "ax.scatter(y_pred_train/1000,np.exp(lny_train)/1000,label='Training Data',\\\n",
    "           s=100, alpha=0.2, color='Blue')\n",
    "ax.scatter(y_pred_test/1000,np.exp(lny_test)/1000,label='Test Data',\\\n",
    "           s=100, alpha=0.2, color='Orange')\n",
    "ax.plot([0.8E1,1E3],[0.8E1,1E3],color='r')\n",
    "ax.semilogx()\n",
    "ax.semilogy()\n",
    "ax.get_yaxis().set_major_formatter(\n",
    "    ticker.FuncFormatter(lambda x, p: format(int(x), ',')))\n",
    "ax.get_xaxis().set_major_formatter(\n",
    "    ticker.FuncFormatter(lambda x, p: format(int(x), ',')))\n",
    "ax.set_xlim(left=8)\n",
    "ax.set_ylim(bottom=8)\n",
    "ax.set_ylabel('Price actual ($1,000)')\n",
    "ax.set_xlabel('Price predicted ($1,000)')\n",
    "ax.legend();\n",
    "fig.savefig('./images/PriceActByPred.svg', format='svg', dpi=1200)\n",
    "print('R2 Train: ', round(r2_train,3))\n",
    "print('R2 Test: ', round(r2_test,3))"
   ]
  },
  {
   "cell_type": "markdown",
   "metadata": {},
   "source": [
    "Exploring the outlier predictions on the left:"
   ]
  },
  {
   "cell_type": "code",
   "execution_count": 33,
   "metadata": {
    "scrolled": true
   },
   "outputs": [
    {
     "data": {
      "text/plain": [
       "price_str                                                     £65000\n",
       "make                                             Alfred Payne Design\n",
       "model                                                    Gaff Cutter\n",
       "year_str                                                        1860\n",
       "cls                                                   Cruiser (Sail)\n",
       "length_ft                                                         41\n",
       "LOA_ft                                                         41 ft\n",
       "displacement_lb                                                 None\n",
       "fuel_type                                                     Diesel\n",
       "power_hp                                                        None\n",
       "eng_make                                                        None\n",
       "eng_model                                                       None\n",
       "eng_year                                                        None\n",
       "eng_hrs                                                         None\n",
       "location           Nr Falmouth, Cornwall, United Kingdom (Nr Falm...\n",
       "year                                                            1860\n",
       "price_USD                                                      79300\n",
       "Cur                                                            Pound\n",
       "mfg                                                            Other\n",
       "Name: 5286881, dtype: object"
      ]
     },
     "execution_count": 33,
     "metadata": {},
     "output_type": "execute_result"
    }
   ],
   "source": [
    "ind = np.argmin(y_pred_train)\n",
    "nm = X_train.iloc[ind].name\n",
    "df.loc[nm]"
   ]
  },
  {
   "cell_type": "code",
   "execution_count": 34,
   "metadata": {},
   "outputs": [
    {
     "data": {
      "image/png": "[encoded data removed]",
      "text/plain": [
       "<Figure size 432x288 with 1 Axes>"
      ]
     },
     "metadata": {
      "needs_background": "light"
     },
     "output_type": "display_data"
    }
   ],
   "source": [
    "#Plot the Residuals by Length\n",
    "fig,ax = plt.subplots(1,1);\n",
    "ax.scatter(X_test.length_ft,resid_test,label='Test Data', s=100, alpha=0.2)\n",
    "#ax.scatter(X_train.length_ft,resid_train,label='Train Data', s=100, alpha=0.2)\n",
    "ax.set_ylabel('ln(Actual) - ln(Predicted)')\n",
    "ax.set_xlabel('Length(ft)')\n",
    "ax.legend();"
   ]
  },
  {
   "cell_type": "code",
   "execution_count": 36,
   "metadata": {},
   "outputs": [
    {
     "data": {
      "image/png": "[encoded data removed]",
      "text/plain": [
       "<Figure size 576x288 with 2 Axes>"
      ]
     },
     "metadata": {
      "needs_background": "light"
     },
     "output_type": "display_data"
    }
   ],
   "source": [
    "#Plot Residual by Year\n",
    "fig, (ax2, ax1) = plt.subplots(1,2,sharey=True,figsize=(8, 4))\n",
    "ax1.scatter(X_test.year,resid_test,label='Test Data', s=100, alpha=0.2, color=\"Blue\")\n",
    "#ax1.scatter(X_train.year,resid_train,label='Train Data', s=100, alpha=0.2)\n",
    "ax1.set_xlim(left=1940)\n",
    "ax2.set_ylabel('Residual of log(Price)')\n",
    "ax1.set_xlabel('Year')\n",
    "ax1.legend()\n",
    "ax2.scatter(X_test.length_ft,resid_test,label='Test Data', s=100, alpha=0.2, color=\"Blue\")\n",
    "#ax2.scatter(X_train.length_ft,resid_train,label='Train Data', s=100, alpha=0.2)\n",
    "ax2.set_xlabel('Length(ft)');\n",
    "fig.savefig('./images/ResidByLengthYear.svg', format='svg', dpi=1200)"
   ]
  },
  {
   "cell_type": "code",
   "execution_count": null,
   "metadata": {},
   "outputs": [],
   "source": []
  }
 ],
 "metadata": {
  "kernelspec": {
   "display_name": "Python [conda env:metis] *",
   "language": "python",
   "name": "conda-env-metis-py"
  },
  "language_info": {
   "codemirror_mode": {
    "name": "ipython",
    "version": 3
   },
   "file_extension": ".py",
   "mimetype": "text/x-python",
   "name": "python",
   "nbconvert_exporter": "python",
   "pygments_lexer": "ipython3",
   "version": "3.7.3"
  }
 },
 "nbformat": 4,
 "nbformat_minor": 2
}
