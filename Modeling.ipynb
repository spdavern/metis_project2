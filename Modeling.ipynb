{
 "cells": [
  {
   "cell_type": "code",
   "execution_count": 1,
   "metadata": {},
   "outputs": [],
   "source": [
    "import pandas as pd\n",
    "import sys\n",
    "import os.path\n",
    "import pickle\n",
    "import time\n",
    "import re\n",
    "from sklearn.linear_model import LinearRegression\n",
    "from sklearn.model_selection import train_test_split\n",
    "import matplotlib.pyplot as plt\n",
    "%matplotlib inline"
   ]
  },
  {
   "cell_type": "markdown",
   "metadata": {},
   "source": [
    "# Load\n",
    "Read the file resulting from the scraping:"
   ]
  },
  {
   "cell_type": "code",
   "execution_count": 2,
   "metadata": {},
   "outputs": [
    {
     "name": "stdout",
     "output_type": "stream",
     "text": [
      "3001  boats read from file into boats_df.\n"
     ]
    }
   ],
   "source": [
    "# Location of the dataframe pickle file containing all the boat data:\n",
    "boats_df_path = './data/boats_df.pkl'\n",
    "if os.path.isfile(boats_df_path):\n",
    "    df = pd.read_pickle(boats_df_path)\n",
    "    print(len(df),' boats read from file into boats_df.')"
   ]
  },
  {
   "cell_type": "code",
   "execution_count": null,
   "metadata": {},
   "outputs": [],
   "source": [
    "df.head()"
   ]
  },
  {
   "cell_type": "markdown",
   "metadata": {},
   "source": [
    "I'm going to rename the feature 'year' to 'year_str'"
   ]
  },
  {
   "cell_type": "code",
   "execution_count": 3,
   "metadata": {},
   "outputs": [],
   "source": [
    "df.rename(columns={'year':'year_str'},inplace=True)\n",
    "df.rename(columns={'price':'price_str'},inplace=True)"
   ]
  },
  {
   "cell_type": "markdown",
   "metadata": {},
   "source": [
    "# Clean\n",
    "Clean steps to prepare the data for modeling:"
   ]
  },
  {
   "cell_type": "code",
   "execution_count": 4,
   "metadata": {},
   "outputs": [],
   "source": [
    "# There are no null values in the year so it simply be converted to an int:\n",
    "df['year'] = df['year_str'].astype(int).copy()\n",
    "df['price'] = pd.to_numeric(df['price_str'],errors='coerce').copy()"
   ]
  },
  {
   "cell_type": "code",
   "execution_count": 5,
   "metadata": {},
   "outputs": [
    {
     "name": "stdout",
     "output_type": "stream",
     "text": [
      "<class 'pandas.core.frame.DataFrame'>\n",
      "Index: 3001 entries, 5637501 to 1015053\n",
      "Data columns (total 17 columns):\n",
      "price_str          3001 non-null object\n",
      "make               3001 non-null object\n",
      "model              2948 non-null object\n",
      "year_str           3001 non-null object\n",
      "cls                3001 non-null object\n",
      "length_ft          3001 non-null object\n",
      "LOA_ft             2709 non-null object\n",
      "displacement_lb    1466 non-null object\n",
      "fuel_type          2893 non-null object\n",
      "power_hp           2086 non-null object\n",
      "eng_make           2170 non-null object\n",
      "eng_model          1587 non-null object\n",
      "eng_year           1369 non-null object\n",
      "eng_hrs            1118 non-null object\n",
      "location           3001 non-null object\n",
      "year               3001 non-null int64\n",
      "price              757 non-null float64\n",
      "dtypes: float64(1), int64(1), object(15)\n",
      "memory usage: 422.0+ KB\n"
     ]
    }
   ],
   "source": [
    "df.info()"
   ]
  },
  {
   "cell_type": "markdown",
   "metadata": {},
   "source": [
    "Grab the parts of df that will be modeled and eliminate rows that have None's."
   ]
  },
  {
   "cell_type": "code",
   "execution_count": 6,
   "metadata": {},
   "outputs": [],
   "source": [
    "data = df.loc[:,['year','price']].copy()\n",
    "data.dropna(inplace=True)\n",
    "X = data[['year']]\n",
    "y = data['price']"
   ]
  },
  {
   "cell_type": "code",
   "execution_count": 7,
   "metadata": {},
   "outputs": [],
   "source": [
    "# Divide the data into test and train sets:\n",
    "X_train, X_test, y_train, y_test = train_test_split(X, y, test_size=.2, random_state=42)"
   ]
  },
  {
   "cell_type": "code",
   "execution_count": 8,
   "metadata": {
    "scrolled": true
   },
   "outputs": [],
   "source": [
    "# Create an empty model\n",
    "lr = LinearRegression()\n",
    "\n",
    "# Fit the model to the full dataset\n",
    "fit = lr.fit(pd.DataFrame(X_train), y_train)\n",
    "\n",
    "# Calculate R2 for the training set\n",
    "y_pred_train = fit.predict(pd.DataFrame(X_train))\n",
    "r2_train = fit.score(pd.DataFrame(X_train),y_train)\n",
    "\n",
    "# Calculate y_pred and R2 for the test set\n",
    "y_pred = fit.predict(pd.DataFrame(X_test))\n",
    "r2_test = fit.score(pd.DataFrame(X_test),y_test)"
   ]
  },
  {
   "cell_type": "code",
   "execution_count": 9,
   "metadata": {},
   "outputs": [],
   "source": [
    "r2_train = fit.score(pd.DataFrame(X_train),y_train)\n",
    "y_pred_test = fit.predict(X_test)\n",
    "y_pred_train = fit.predict(X_train)\n",
    "r2_test = fit.score(X_test,y_test)"
   ]
  },
  {
   "cell_type": "code",
   "execution_count": 11,
   "metadata": {},
   "outputs": [
    {
     "name": "stdout",
     "output_type": "stream",
     "text": [
      "R2 Train:  0.26327696575500614\n",
      "R2 Test:  0.4262073052412111\n"
     ]
    },
    {
     "data": {
      "image/png": "[encoded data removed]",
      "text/plain": [
       "<Figure size 432x288 with 1 Axes>"
      ]
     },
     "metadata": {
      "needs_background": "light"
     },
     "output_type": "display_data"
    }
   ],
   "source": [
    "#Plot the results\n",
    "fig,ax = plt.subplots(1,1);\n",
    "ax.scatter(y_pred_test,y_test,label='Test Data', s=100, alpha=0.3)\n",
    "#ax.scatter(y_pred_train,y_train,label='Train Data', s=100, alpha=0.2)\n",
    "ax.set_ylabel('y actual')\n",
    "ax.set_xlabel('y predict')\n",
    "ax.legend();\n",
    "print('R2 Train: ', r2_train)\n",
    "print('R2 Test: ', r2_test)"
   ]
  },
  {
   "cell_type": "markdown",
   "metadata": {},
   "source": [
    "This was the MVP linear regression."
   ]
  },
  {
   "cell_type": "code",
   "execution_count": null,
   "metadata": {},
   "outputs": [],
   "source": []
  }
 ],
 "metadata": {
  "kernelspec": {
   "display_name": "Python [conda env:metis] *",
   "language": "python",
   "name": "conda-env-metis-py"
  },
  "language_info": {
   "codemirror_mode": {
    "name": "ipython",
    "version": 3
   },
   "file_extension": ".py",
   "mimetype": "text/x-python",
   "name": "python",
   "nbconvert_exporter": "python",
   "pygments_lexer": "ipython3",
   "version": "3.7.3"
  }
 },
 "nbformat": 4,
 "nbformat_minor": 2
}
