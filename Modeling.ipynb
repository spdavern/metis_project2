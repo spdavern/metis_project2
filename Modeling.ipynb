{
 "cells": [
  {
   "cell_type": "code",
   "execution_count": 1,
   "metadata": {},
   "outputs": [],
   "source": [
    "import pandas as pd\n",
    "import numpy as np\n",
    "import sys\n",
    "import os.path\n",
    "import pickle\n",
    "import time\n",
    "import re\n",
    "import math\n",
    "import sklearn_pandas\n",
    "from sklearn.linear_model import LinearRegression, LassoCV\n",
    "from sklearn.pipeline import FeatureUnion\n",
    "from sklearn.model_selection import train_test_split\n",
    "from sklearn.metrics import mean_squared_error\n",
    "import matplotlib.pyplot as plt\n",
    "%matplotlib inline\n"
   ]
  },
  {
   "cell_type": "markdown",
   "metadata": {},
   "source": [
    "# Load\n",
    "Read the file resulting from the scraping:"
   ]
  },
  {
   "cell_type": "code",
   "execution_count": 2,
   "metadata": {},
   "outputs": [
    {
     "name": "stdout",
     "output_type": "stream",
     "text": [
      "3001  boats read from file into boats_df.\n"
     ]
    }
   ],
   "source": [
    "# Location of the dataframe pickle file containing all the boat data:\n",
    "boats_df_path = './data/boats_df.pkl'\n",
    "if os.path.isfile(boats_df_path):\n",
    "    df = pd.read_pickle(boats_df_path)\n",
    "    print(len(df),' boats read from file into boats_df.')"
   ]
  },
  {
   "cell_type": "code",
   "execution_count": 3,
   "metadata": {},
   "outputs": [
    {
     "data": {
      "text/html": [
       "<div>\n",
       "<style scoped>\n",
       "    .dataframe tbody tr th:only-of-type {\n",
       "        vertical-align: middle;\n",
       "    }\n",
       "\n",
       "    .dataframe tbody tr th {\n",
       "        vertical-align: top;\n",
       "    }\n",
       "\n",
       "    .dataframe thead th {\n",
       "        text-align: right;\n",
       "    }\n",
       "</style>\n",
       "<table border=\"1\" class=\"dataframe\">\n",
       "  <thead>\n",
       "    <tr style=\"text-align: right;\">\n",
       "      <th></th>\n",
       "      <th>price</th>\n",
       "      <th>make</th>\n",
       "      <th>model</th>\n",
       "      <th>year</th>\n",
       "      <th>cls</th>\n",
       "      <th>length_ft</th>\n",
       "      <th>LOA_ft</th>\n",
       "      <th>displacement_lb</th>\n",
       "      <th>fuel_type</th>\n",
       "      <th>power_hp</th>\n",
       "      <th>eng_make</th>\n",
       "      <th>eng_model</th>\n",
       "      <th>eng_year</th>\n",
       "      <th>eng_hrs</th>\n",
       "      <th>location</th>\n",
       "    </tr>\n",
       "  </thead>\n",
       "  <tbody>\n",
       "    <tr>\n",
       "      <td>5637501</td>\n",
       "      <td>Request Price</td>\n",
       "      <td>Bali</td>\n",
       "      <td>4.5</td>\n",
       "      <td>2020</td>\n",
       "      <td>Catamaran</td>\n",
       "      <td>45</td>\n",
       "      <td>45 ft</td>\n",
       "      <td>32800</td>\n",
       "      <td>Diesel</td>\n",
       "      <td>50</td>\n",
       "      <td>None</td>\n",
       "      <td>None</td>\n",
       "      <td>2016</td>\n",
       "      <td>50</td>\n",
       "      <td>All Locations, California</td>\n",
       "    </tr>\n",
       "    <tr>\n",
       "      <td>7213466</td>\n",
       "      <td>89500</td>\n",
       "      <td>Beneteau</td>\n",
       "      <td>OC 400</td>\n",
       "      <td>1996</td>\n",
       "      <td>Sloop</td>\n",
       "      <td>40</td>\n",
       "      <td>40 ft</td>\n",
       "      <td>19200</td>\n",
       "      <td>Diesel</td>\n",
       "      <td>None</td>\n",
       "      <td>Perkins</td>\n",
       "      <td>M-50</td>\n",
       "      <td>None</td>\n",
       "      <td>None</td>\n",
       "      <td>Kenosha , Wisconsin</td>\n",
       "    </tr>\n",
       "    <tr>\n",
       "      <td>7216014</td>\n",
       "      <td>125900</td>\n",
       "      <td>Hunter</td>\n",
       "      <td>466</td>\n",
       "      <td>2002</td>\n",
       "      <td>Cruiser (Sail)</td>\n",
       "      <td>46</td>\n",
       "      <td>46 ft 1 in</td>\n",
       "      <td>26180</td>\n",
       "      <td>Diesel</td>\n",
       "      <td>76</td>\n",
       "      <td>Yanmar</td>\n",
       "      <td>None</td>\n",
       "      <td>2002</td>\n",
       "      <td>938</td>\n",
       "      <td>Stamford, Connecticut</td>\n",
       "    </tr>\n",
       "    <tr>\n",
       "      <td>7191853</td>\n",
       "      <td>265000</td>\n",
       "      <td>Jeanneau</td>\n",
       "      <td>Sun Odyssey 419</td>\n",
       "      <td>2018</td>\n",
       "      <td>Cruiser (Sail)</td>\n",
       "      <td>42</td>\n",
       "      <td>41 ft 10 in</td>\n",
       "      <td>None</td>\n",
       "      <td>Diesel</td>\n",
       "      <td>45</td>\n",
       "      <td>Yanmar</td>\n",
       "      <td>None</td>\n",
       "      <td>None</td>\n",
       "      <td>300</td>\n",
       "      <td>Portsmouth, Rhode Island</td>\n",
       "    </tr>\n",
       "    <tr>\n",
       "      <td>7152732</td>\n",
       "      <td>388900</td>\n",
       "      <td>Fountaine Pajot</td>\n",
       "      <td>Orana 44</td>\n",
       "      <td>2012</td>\n",
       "      <td>Multi-Hull</td>\n",
       "      <td>44</td>\n",
       "      <td>44 ft</td>\n",
       "      <td>None</td>\n",
       "      <td>Diesel</td>\n",
       "      <td>None</td>\n",
       "      <td>Volvo Penta</td>\n",
       "      <td>D2-40</td>\n",
       "      <td>2012</td>\n",
       "      <td>5270</td>\n",
       "      <td>St Thomas, United States</td>\n",
       "    </tr>\n",
       "  </tbody>\n",
       "</table>\n",
       "</div>"
      ],
      "text/plain": [
       "                 price             make            model  year  \\\n",
       "5637501  Request Price             Bali              4.5  2020   \n",
       "7213466          89500         Beneteau           OC 400  1996   \n",
       "7216014         125900           Hunter              466  2002   \n",
       "7191853         265000         Jeanneau  Sun Odyssey 419  2018   \n",
       "7152732         388900  Fountaine Pajot         Orana 44  2012   \n",
       "\n",
       "                    cls length_ft       LOA_ft displacement_lb fuel_type  \\\n",
       "5637501       Catamaran        45        45 ft           32800    Diesel   \n",
       "7213466           Sloop        40        40 ft           19200    Diesel   \n",
       "7216014  Cruiser (Sail)        46   46 ft 1 in           26180    Diesel   \n",
       "7191853  Cruiser (Sail)        42  41 ft 10 in            None    Diesel   \n",
       "7152732      Multi-Hull        44        44 ft            None    Diesel   \n",
       "\n",
       "        power_hp     eng_make eng_model eng_year eng_hrs  \\\n",
       "5637501       50         None      None     2016      50   \n",
       "7213466     None      Perkins      M-50     None    None   \n",
       "7216014       76       Yanmar      None     2002     938   \n",
       "7191853       45       Yanmar      None     None     300   \n",
       "7152732     None  Volvo Penta     D2-40     2012    5270   \n",
       "\n",
       "                          location  \n",
       "5637501  All Locations, California  \n",
       "7213466        Kenosha , Wisconsin  \n",
       "7216014      Stamford, Connecticut  \n",
       "7191853   Portsmouth, Rhode Island  \n",
       "7152732   St Thomas, United States  "
      ]
     },
     "execution_count": 3,
     "metadata": {},
     "output_type": "execute_result"
    }
   ],
   "source": [
    "df.head()"
   ]
  },
  {
   "cell_type": "markdown",
   "metadata": {},
   "source": [
    "I'm going to rename the feature 'year' to 'year_str'"
   ]
  },
  {
   "cell_type": "code",
   "execution_count": 4,
   "metadata": {},
   "outputs": [],
   "source": [
    "df.rename(columns={'year':'year_str'},inplace=True)\n",
    "df.rename(columns={'price':'price_str'},inplace=True)"
   ]
  },
  {
   "cell_type": "markdown",
   "metadata": {},
   "source": [
    "# Clean\n",
    "Clean steps to prepare the data for modeling:"
   ]
  },
  {
   "cell_type": "code",
   "execution_count": 5,
   "metadata": {},
   "outputs": [
    {
     "data": {
      "text/html": [
       "<div>\n",
       "<style scoped>\n",
       "    .dataframe tbody tr th:only-of-type {\n",
       "        vertical-align: middle;\n",
       "    }\n",
       "\n",
       "    .dataframe tbody tr th {\n",
       "        vertical-align: top;\n",
       "    }\n",
       "\n",
       "    .dataframe thead th {\n",
       "        text-align: right;\n",
       "    }\n",
       "</style>\n",
       "<table border=\"1\" class=\"dataframe\">\n",
       "  <thead>\n",
       "    <tr style=\"text-align: right;\">\n",
       "      <th></th>\n",
       "      <th>length_ft</th>\n",
       "      <th>year</th>\n",
       "    </tr>\n",
       "  </thead>\n",
       "  <tbody>\n",
       "    <tr>\n",
       "      <td>count</td>\n",
       "      <td>3001.000000</td>\n",
       "      <td>3001.000000</td>\n",
       "    </tr>\n",
       "    <tr>\n",
       "      <td>mean</td>\n",
       "      <td>44.270910</td>\n",
       "      <td>2001.953682</td>\n",
       "    </tr>\n",
       "    <tr>\n",
       "      <td>std</td>\n",
       "      <td>2.981652</td>\n",
       "      <td>13.748413</td>\n",
       "    </tr>\n",
       "    <tr>\n",
       "      <td>min</td>\n",
       "      <td>40.000000</td>\n",
       "      <td>1860.000000</td>\n",
       "    </tr>\n",
       "    <tr>\n",
       "      <td>25%</td>\n",
       "      <td>42.000000</td>\n",
       "      <td>1996.000000</td>\n",
       "    </tr>\n",
       "    <tr>\n",
       "      <td>50%</td>\n",
       "      <td>44.000000</td>\n",
       "      <td>2005.000000</td>\n",
       "    </tr>\n",
       "    <tr>\n",
       "      <td>75%</td>\n",
       "      <td>46.000000</td>\n",
       "      <td>2011.000000</td>\n",
       "    </tr>\n",
       "    <tr>\n",
       "      <td>max</td>\n",
       "      <td>50.000000</td>\n",
       "      <td>2020.000000</td>\n",
       "    </tr>\n",
       "  </tbody>\n",
       "</table>\n",
       "</div>"
      ],
      "text/plain": [
       "         length_ft         year\n",
       "count  3001.000000  3001.000000\n",
       "mean     44.270910  2001.953682\n",
       "std       2.981652    13.748413\n",
       "min      40.000000  1860.000000\n",
       "25%      42.000000  1996.000000\n",
       "50%      44.000000  2005.000000\n",
       "75%      46.000000  2011.000000\n",
       "max      50.000000  2020.000000"
      ]
     },
     "execution_count": 5,
     "metadata": {},
     "output_type": "execute_result"
    }
   ],
   "source": [
    "# There are no null values in the year or length so they can simply be converted to int:\n",
    "df['year'] = df['year_str'].astype(int)\n",
    "df['length_ft'] = df['length_ft'].astype(int)\n",
    "df.describe()"
   ]
  },
  {
   "cell_type": "markdown",
   "metadata": {},
   "source": [
    "# Price\n",
    "The MVP coerced the price strings to floats which returned `None`'s for all values in\n",
    "currency other than US$.  I'll fix that now.  I need ASCII codes for Euro and pound:\n",
    "\n",
    "$ \\def\\euro{\\unicode{x20AC}}$\n",
    "$ \\def\\yen{\\unicode{x00A5}}$\n",
    "$ \\def\\pound{\\unicode{x00A3}}$\n",
    "$ \\def\\dollar{\\unicode{x024}}$\n",
    "$euro = \\euro$ is ASCII 8364  \n",
    "$pound = \\pound$ is ASCII 163"
   ]
  },
  {
   "cell_type": "code",
   "execution_count": 6,
   "metadata": {},
   "outputs": [
    {
     "name": "stdout",
     "output_type": "stream",
     "text": [
      "euro =  €\n",
      "pound =  £\n"
     ]
    }
   ],
   "source": [
    "print('euro = ',chr(8364))\n",
    "print('pound = ',chr(163))"
   ]
  },
  {
   "cell_type": "markdown",
   "metadata": {},
   "source": [
    "This function is designed to be used with df.apply() to convert the \n",
    "column 'price_str' to Oct 8, 2019 US$'s."
   ]
  },
  {
   "cell_type": "code",
   "execution_count": 7,
   "metadata": {},
   "outputs": [
    {
     "data": {
      "text/plain": [
       "count    2.912000e+03\n",
       "mean     1.821184e+05\n",
       "std      1.378925e+05\n",
       "min      9.760000e+03\n",
       "25%      9.570000e+04\n",
       "50%      1.430000e+05\n",
       "75%      2.220500e+05\n",
       "max      3.000000e+06\n",
       "Name: price_USD, dtype: float64"
      ]
     },
     "execution_count": 7,
     "metadata": {},
     "output_type": "execute_result"
    }
   ],
   "source": [
    "def Currency_Converter(row):\n",
    "    \"\"\"\n",
    "    Coverts dataframe series values named 'price_str' to US$\n",
    "    using converstion rates on 10/8/2019\n",
    "    \"\"\"\n",
    "\n",
    "    first_price_char = row.price_str.strip()[0]\n",
    "    if row.price_str == 'Request Price':  # New Boat\n",
    "        return None\n",
    "    price = float(re.search('\\d+', row.price_str).group(0))\n",
    "    if re.match(r'\\d',first_price_char):  # US$\n",
    "        return price\n",
    "    if first_price_char == chr(8364):  # Euro\n",
    "        return price * 1.10\n",
    "    if first_price_char == chr(163):  # British Pound\n",
    "        return price * 1.22\n",
    "    if first_price_char == 'A':   # Austrialian $\n",
    "        return price * 0.67\n",
    "    if row.price_str[:2] == 'CA':\n",
    "        return price * 0.75\n",
    "    if row.price_str[:2] == 'NZ':\n",
    "        return price * 0.63\n",
    "    if row.price_str[:3] == 'Dkr':\n",
    "        return price * 0.15\n",
    "    return None\n",
    "\n",
    "# Prices had 'US$' stripped but for other denominations there are still symbol characters:\n",
    "# Convert all price strings to US$ using Currency_Converter above\n",
    "df['price_USD'] = df.apply(Currency_Converter,axis=1).copy()\n",
    "df.price_USD.describe()"
   ]
  },
  {
   "cell_type": "markdown",
   "metadata": {},
   "source": [
    "# Data Cleaning"
   ]
  },
  {
   "cell_type": "code",
   "execution_count": 8,
   "metadata": {},
   "outputs": [],
   "source": [
    "# I'm going to drop the 2 outlier price values\n",
    "df.drop(df.price_USD.idxmax(), inplace=True)\n",
    "df.drop(df.price_USD.idxmax(), inplace=True)\n",
    "# There is 1 boat of type class identified as 'Commercial Boat (Sail)'\n",
    "# I'm going to change it to 'Cruiser/Racer'\n",
    "df.loc[df[df.cls == 'Commercial Boat (Sail)'].index,['cls']] = 'Cruiser/Racer'\n",
    "# I'll make the capitalization of the makes contistent:\n",
    "df['make'] = df['make'].str.title()"
   ]
  },
  {
   "cell_type": "markdown",
   "metadata": {},
   "source": [
    "Lets see if we can bring in make:"
   ]
  },
  {
   "cell_type": "code",
   "execution_count": 9,
   "metadata": {},
   "outputs": [
    {
     "data": {
      "text/plain": [
       "404"
      ]
     },
     "execution_count": 9,
     "metadata": {},
     "output_type": "execute_result"
    }
   ],
   "source": [
    "makes = df['make'].value_counts()\n",
    "len(makes)"
   ]
  },
  {
   "cell_type": "markdown",
   "metadata": {},
   "source": [
    "If I exclude makes have have fewer than 5 and call the others \"Other\" I'll have:"
   ]
  },
  {
   "cell_type": "code",
   "execution_count": 10,
   "metadata": {},
   "outputs": [
    {
     "data": {
      "text/plain": [
       "162"
      ]
     },
     "execution_count": 10,
     "metadata": {},
     "output_type": "execute_result"
    }
   ],
   "source": [
    "len(makes[df['make'].value_counts() > 1])"
   ]
  },
  {
   "cell_type": "code",
   "execution_count": 11,
   "metadata": {},
   "outputs": [
    {
     "data": {
      "text/plain": [
       "354"
      ]
     },
     "execution_count": 11,
     "metadata": {},
     "output_type": "execute_result"
    }
   ],
   "source": [
    "sum(makes[df['make'].value_counts() < 3])"
   ]
  },
  {
   "cell_type": "markdown",
   "metadata": {},
   "source": [
    "Creating a feature in df called mfg:"
   ]
  },
  {
   "cell_type": "code",
   "execution_count": 12,
   "metadata": {},
   "outputs": [
    {
     "name": "stdout",
     "output_type": "stream",
     "text": [
      "Number of boats categrized as \"Other\":  354\n"
     ]
    }
   ],
   "source": [
    "makes = df['make'].value_counts()\n",
    "makes = makes[df['make'].value_counts() > 2]\n",
    "df['mfg'] = df.make.apply(lambda make: make if make in makes else 'Other')\n",
    "print('Number of boats categrized as \"Other\": ',len(df[df.mfg == 'Other']))"
   ]
  },
  {
   "cell_type": "code",
   "execution_count": null,
   "metadata": {},
   "outputs": [],
   "source": []
  },
  {
   "cell_type": "code",
   "execution_count": 13,
   "metadata": {},
   "outputs": [
    {
     "data": {
      "text/plain": [
       "Cruiser (Sail)                2255\n",
       "Cruiser/Racer                  229\n",
       "Sloop                          147\n",
       "Multi-Hull                      98\n",
       "Catamaran                       73\n",
       "Center Cockpit                  44\n",
       "Racer                           36\n",
       "Ketch                           32\n",
       "Cutter                          29\n",
       "Antique and Classic (Sail)      18\n",
       "Deck Saloon                     17\n",
       "Pilothouse (Sail)                8\n",
       "Daysailer                        6\n",
       "Motorsailer (Sail)               4\n",
       "Schooner                         3\n",
       "Name: cls, dtype: int64"
      ]
     },
     "execution_count": 13,
     "metadata": {},
     "output_type": "execute_result"
    }
   ],
   "source": [
    "df.cls.value_counts()"
   ]
  },
  {
   "cell_type": "code",
   "execution_count": null,
   "metadata": {},
   "outputs": [],
   "source": []
  },
  {
   "cell_type": "code",
   "execution_count": 14,
   "metadata": {
    "scrolled": true
   },
   "outputs": [],
   "source": [
    "#df.info()"
   ]
  },
  {
   "cell_type": "markdown",
   "metadata": {},
   "source": [
    "Grab the parts of df that will be modeled and eliminate rows that have None's."
   ]
  },
  {
   "cell_type": "code",
   "execution_count": 15,
   "metadata": {},
   "outputs": [],
   "source": [
    "data = df.loc[:,['year','price_USD','length_ft', 'mfg', 'cls']].copy()\n",
    "data.dropna(inplace=True)\n",
    "X = data[['year', 'length_ft', 'mfg', 'cls']]\n",
    "y = data['price_USD']"
   ]
  },
  {
   "cell_type": "code",
   "execution_count": 16,
   "metadata": {},
   "outputs": [],
   "source": [
    "# Divide the data into test and train sets:\n",
    "X_train, X_test, lny_train, lny_test = train_test_split(X, np.log(y), test_size=.2, random_state=42)"
   ]
  },
  {
   "cell_type": "code",
   "execution_count": 17,
   "metadata": {},
   "outputs": [],
   "source": [
    "from sklearn_pandas import DataFrameMapper\n",
    "from sklearn.preprocessing import FunctionTransformer\n",
    "from sklearn.preprocessing import StandardScaler, OneHotEncoder\n",
    "from sklearn.pipeline import FeatureUnion\n",
    "from sklearn.pipeline import make_pipeline\n",
    "#posTransform = make_pipeline(FunctionTransformer(np.log), StandardScaler())\n",
    "    # (['Lot Area', 'Gr Liv Area'], posTransform),\n",
    "mapper = DataFrameMapper([\n",
    "        (['year', 'length_ft'], StandardScaler()),\n",
    "        (['mfg', 'cls'], OneHotEncoder())\n",
    "        ])\n",
    "\n",
    "pipe = make_pipeline(mapper, LassoCV(cv=5, alphas=np.logspace(-2,-5,100)))\n",
    "#pipe = make_pipeline(mapper, LinearRegression())"
   ]
  },
  {
   "cell_type": "code",
   "execution_count": 18,
   "metadata": {},
   "outputs": [
    {
     "data": {
      "text/plain": [
       "Pipeline(memory=None,\n",
       "         steps=[('dataframemapper',\n",
       "                 DataFrameMapper(default=False, df_out=False,\n",
       "                                 features=[(['year', 'length_ft'],\n",
       "                                            StandardScaler(copy=True,\n",
       "                                                           with_mean=True,\n",
       "                                                           with_std=True)),\n",
       "                                           (['mfg', 'cls'],\n",
       "                                            OneHotEncoder(categorical_features=None,\n",
       "                                                          categories=None,\n",
       "                                                          drop=None,\n",
       "                                                          dtype=<class 'numpy.float64'>,\n",
       "                                                          handle_unknown='error',\n",
       "                                                          n_values=None,\n",
       "                                                          sparse=True))],\n",
       "                                 input_df=F...\n",
       "       2.15443469e-05, 2.00923300e-05, 1.87381742e-05, 1.74752840e-05,\n",
       "       1.62975083e-05, 1.51991108e-05, 1.41747416e-05, 1.32194115e-05,\n",
       "       1.23284674e-05, 1.14975700e-05, 1.07226722e-05, 1.00000000e-05]),\n",
       "                         copy_X=True, cv=5, eps=0.001, fit_intercept=True,\n",
       "                         max_iter=1000, n_alphas=100, n_jobs=None,\n",
       "                         normalize=False, positive=False, precompute='auto',\n",
       "                         random_state=None, selection='cyclic', tol=0.0001,\n",
       "                         verbose=False))],\n",
       "         verbose=False)"
      ]
     },
     "execution_count": 18,
     "metadata": {},
     "output_type": "execute_result"
    }
   ],
   "source": [
    "pipe.fit(X_train,lny_train)"
   ]
  },
  {
   "cell_type": "code",
   "execution_count": 19,
   "metadata": {},
   "outputs": [],
   "source": [
    "lcv = pipe.steps[1][1]"
   ]
  },
  {
   "cell_type": "code",
   "execution_count": 20,
   "metadata": {
    "scrolled": true
   },
   "outputs": [
    {
     "data": {
      "text/plain": [
       "0.5555555555555556"
      ]
     },
     "execution_count": 20,
     "metadata": {},
     "output_type": "execute_result"
    }
   ],
   "source": [
    "(np.log(lcv.alphas_[0]) - np.log(lcv.alpha_))/(np.log(lcv.alphas_[0]) - np.log(lcv.alphas_[-1]))"
   ]
  },
  {
   "cell_type": "code",
   "execution_count": 21,
   "metadata": {},
   "outputs": [
    {
     "name": "stdout",
     "output_type": "stream",
     "text": [
      "Coeficients = 0:  26\n",
      "Total Coefficiencts:  124\n"
     ]
    }
   ],
   "source": [
    "print('Coeficients = 0: ', len(lcv.coef_[lcv.coef_==0]))\n",
    "print('Total Coefficiencts: ', len(lcv.coef_))"
   ]
  },
  {
   "cell_type": "code",
   "execution_count": 22,
   "metadata": {},
   "outputs": [
    {
     "data": {
      "text/plain": [
       "0.00021544346900318823"
      ]
     },
     "execution_count": 22,
     "metadata": {},
     "output_type": "execute_result"
    }
   ],
   "source": [
    "lcv.alpha_"
   ]
  },
  {
   "cell_type": "code",
   "execution_count": 24,
   "metadata": {},
   "outputs": [
    {
     "data": {
      "image/png": "[encoded data removed]",
      "text/plain": [
       "<Figure size 432x288 with 1 Axes>"
      ]
     },
     "metadata": {
      "needs_background": "light"
     },
     "output_type": "display_data"
    }
   ],
   "source": [
    "plt.plot(lcv.alphas_)\n",
    "plt.hlines(lcv.alpha_,0,100)\n",
    "#plt.plot(np.logspace(-1,-4,100))\n",
    "plt.semilogy();"
   ]
  },
  {
   "cell_type": "code",
   "execution_count": 26,
   "metadata": {},
   "outputs": [],
   "source": [
    "y_pred_test = np.exp(pipe.predict(X_test))\n",
    "y_pred_train = np.exp(pipe.predict(X_train))\n",
    "resid_train = lny_train - pipe.predict(X_train)\n",
    "resid_test = lny_test - pipe.predict(X_test)\n",
    "r2_train = pipe.score(X_train,lny_train)\n",
    "r2_test = pipe.score(X_test,lny_test)\n",
    "RMSE_test = math.sqrt(mean_squared_error(lny_test,pipe.predict(X_test)))\n",
    "RMSE_train = math.sqrt(mean_squared_error(lny_train,pipe.predict(X_train)))"
   ]
  },
  {
   "cell_type": "code",
   "execution_count": 27,
   "metadata": {},
   "outputs": [
    {
     "name": "stdout",
     "output_type": "stream",
     "text": [
      "0.347 0.384\n"
     ]
    }
   ],
   "source": [
    "print(round(RMSE_test,3),round(RMSE_train,3))"
   ]
  },
  {
   "cell_type": "code",
   "execution_count": 28,
   "metadata": {},
   "outputs": [
    {
     "name": "stdout",
     "output_type": "stream",
     "text": [
      "R2 Train:  0.6345845923825556\n",
      "R2 Test:  0.6741590215643697\n"
     ]
    },
    {
     "data": {
      "image/png": "[encoded data removed]",
      "text/plain": [
       "<Figure size 432x288 with 1 Axes>"
      ]
     },
     "metadata": {
      "needs_background": "light"
     },
     "output_type": "display_data"
    }
   ],
   "source": [
    "#Plot the Actual by Predicted\n",
    "fig,ax = plt.subplots(1,1);\n",
    "ax.scatter(y_pred_test,np.exp(lny_test),label='Test Data', s=100, alpha=0.2)\n",
    "ax.scatter(y_pred_train,np.exp(lny_train),label='Train Data', s=100, alpha=0.2)\n",
    "ax.plot([1.5E4,1E6],[1.5E4,1E6],color='r')\n",
    "ax.semilogx()\n",
    "ax.semilogy()\n",
    "ax.set_xlim(left=10000)\n",
    "ax.set_ylim(bottom=10000)\n",
    "ax.set_ylabel('y actual')\n",
    "ax.set_xlabel('y predict')\n",
    "ax.legend();\n",
    "print('R2 Train: ', r2_train)\n",
    "print('R2 Test: ', r2_test)"
   ]
  },
  {
   "cell_type": "code",
   "execution_count": 29,
   "metadata": {},
   "outputs": [
    {
     "data": {
      "image/png": "[encoded data removed]",
      "text/plain": [
       "<Figure size 432x288 with 1 Axes>"
      ]
     },
     "metadata": {
      "needs_background": "light"
     },
     "output_type": "display_data"
    }
   ],
   "source": [
    "#Plot the Actual by Predicted\n",
    "fig,ax = plt.subplots(1,1);\n",
    "ax.scatter(X_test.length_ft,resid_test,label='Test Data', s=100, alpha=0.2)\n",
    "#ax.scatter(X_train.length_ft,resid_train,label='Train Data', s=100, alpha=0.2)\n",
    "ax.set_ylabel('ln(Actual) - ln(Predicted)')\n",
    "ax.set_xlabel('Length(ft)')\n",
    "ax.legend();"
   ]
  },
  {
   "cell_type": "code",
   "execution_count": 30,
   "metadata": {},
   "outputs": [
    {
     "data": {
      "image/png": "[encoded data removed]",
      "text/plain": [
       "<Figure size 432x288 with 1 Axes>"
      ]
     },
     "metadata": {
      "needs_background": "light"
     },
     "output_type": "display_data"
    }
   ],
   "source": [
    "#Plot the Actual by Predicted\n",
    "fig,ax = plt.subplots(1,1);\n",
    "ax.scatter(X_test.year,resid_test,label='Test Data', s=100, alpha=0.2)\n",
    "#ax.scatter(X_train.year,resid_train,label='Train Data', s=100, alpha=0.2)\n",
    "#ax.set_xlim(left=1960)\n",
    "ax.set_ylabel('ln(Actual) - ln(Predicted)')\n",
    "ax.set_xlabel('Year')\n",
    "ax.legend();"
   ]
  },
  {
   "cell_type": "code",
   "execution_count": null,
   "metadata": {},
   "outputs": [],
   "source": []
  }
 ],
 "metadata": {
  "kernelspec": {
   "display_name": "Python [conda env:metis] *",
   "language": "python",
   "name": "conda-env-metis-py"
  },
  "language_info": {
   "codemirror_mode": {
    "name": "ipython",
    "version": 3
   },
   "file_extension": ".py",
   "mimetype": "text/x-python",
   "name": "python",
   "nbconvert_exporter": "python",
   "pygments_lexer": "ipython3",
   "version": "3.7.3"
  }
 },
 "nbformat": 4,
 "nbformat_minor": 2
}
