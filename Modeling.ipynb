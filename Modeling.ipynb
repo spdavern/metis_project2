{
 "cells": [
  {
   "cell_type": "code",
   "execution_count": 1,
   "metadata": {},
   "outputs": [],
   "source": [
    "import pandas as pd\n",
    "import numpy as np\n",
    "import sys\n",
    "import os.path\n",
    "import pickle\n",
    "import time\n",
    "import re\n",
    "import sklearn_pandas\n",
    "from sklearn.linear_model import LinearRegression\n",
    "from sklearn.pipeline import FeatureUnion\n",
    "from sklearn.model_selection import train_test_split\n",
    "import matplotlib.pyplot as plt\n",
    "%matplotlib inline"
   ]
  },
  {
   "cell_type": "markdown",
   "metadata": {},
   "source": [
    "# Load\n",
    "Read the file resulting from the scraping:"
   ]
  },
  {
   "cell_type": "code",
   "execution_count": 2,
   "metadata": {},
   "outputs": [
    {
     "name": "stdout",
     "output_type": "stream",
     "text": [
      "3001  boats read from file into boats_df.\n"
     ]
    }
   ],
   "source": [
    "# Location of the dataframe pickle file containing all the boat data:\n",
    "boats_df_path = './data/boats_df.pkl'\n",
    "if os.path.isfile(boats_df_path):\n",
    "    df = pd.read_pickle(boats_df_path)\n",
    "    print(len(df),' boats read from file into boats_df.')"
   ]
  },
  {
   "cell_type": "code",
   "execution_count": 56,
   "metadata": {},
   "outputs": [
    {
     "data": {
      "text/html": [
       "<div>\n",
       "<style scoped>\n",
       "    .dataframe tbody tr th:only-of-type {\n",
       "        vertical-align: middle;\n",
       "    }\n",
       "\n",
       "    .dataframe tbody tr th {\n",
       "        vertical-align: top;\n",
       "    }\n",
       "\n",
       "    .dataframe thead th {\n",
       "        text-align: right;\n",
       "    }\n",
       "</style>\n",
       "<table border=\"1\" class=\"dataframe\">\n",
       "  <thead>\n",
       "    <tr style=\"text-align: right;\">\n",
       "      <th></th>\n",
       "      <th>price_str</th>\n",
       "      <th>make</th>\n",
       "      <th>model</th>\n",
       "      <th>year_str</th>\n",
       "      <th>cls</th>\n",
       "      <th>length_ft</th>\n",
       "      <th>LOA_ft</th>\n",
       "      <th>displacement_lb</th>\n",
       "      <th>fuel_type</th>\n",
       "      <th>power_hp</th>\n",
       "      <th>eng_make</th>\n",
       "      <th>eng_model</th>\n",
       "      <th>eng_year</th>\n",
       "      <th>eng_hrs</th>\n",
       "      <th>location</th>\n",
       "      <th>year</th>\n",
       "      <th>price_USD</th>\n",
       "    </tr>\n",
       "  </thead>\n",
       "  <tbody>\n",
       "    <tr>\n",
       "      <td>5637501</td>\n",
       "      <td>Request Price</td>\n",
       "      <td>Bali</td>\n",
       "      <td>4.5</td>\n",
       "      <td>2020</td>\n",
       "      <td>Catamaran</td>\n",
       "      <td>45</td>\n",
       "      <td>45 ft</td>\n",
       "      <td>32800</td>\n",
       "      <td>Diesel</td>\n",
       "      <td>50</td>\n",
       "      <td>None</td>\n",
       "      <td>None</td>\n",
       "      <td>2016</td>\n",
       "      <td>50</td>\n",
       "      <td>All Locations, California</td>\n",
       "      <td>2020</td>\n",
       "      <td>NaN</td>\n",
       "    </tr>\n",
       "    <tr>\n",
       "      <td>7213466</td>\n",
       "      <td>89500</td>\n",
       "      <td>Beneteau</td>\n",
       "      <td>OC 400</td>\n",
       "      <td>1996</td>\n",
       "      <td>Sloop</td>\n",
       "      <td>40</td>\n",
       "      <td>40 ft</td>\n",
       "      <td>19200</td>\n",
       "      <td>Diesel</td>\n",
       "      <td>None</td>\n",
       "      <td>Perkins</td>\n",
       "      <td>M-50</td>\n",
       "      <td>None</td>\n",
       "      <td>None</td>\n",
       "      <td>Kenosha , Wisconsin</td>\n",
       "      <td>1996</td>\n",
       "      <td>89500.0</td>\n",
       "    </tr>\n",
       "    <tr>\n",
       "      <td>7216014</td>\n",
       "      <td>125900</td>\n",
       "      <td>Hunter</td>\n",
       "      <td>466</td>\n",
       "      <td>2002</td>\n",
       "      <td>Cruiser (Sail)</td>\n",
       "      <td>46</td>\n",
       "      <td>46 ft 1 in</td>\n",
       "      <td>26180</td>\n",
       "      <td>Diesel</td>\n",
       "      <td>76</td>\n",
       "      <td>Yanmar</td>\n",
       "      <td>None</td>\n",
       "      <td>2002</td>\n",
       "      <td>938</td>\n",
       "      <td>Stamford, Connecticut</td>\n",
       "      <td>2002</td>\n",
       "      <td>125900.0</td>\n",
       "    </tr>\n",
       "    <tr>\n",
       "      <td>7191853</td>\n",
       "      <td>265000</td>\n",
       "      <td>Jeanneau</td>\n",
       "      <td>Sun Odyssey 419</td>\n",
       "      <td>2018</td>\n",
       "      <td>Cruiser (Sail)</td>\n",
       "      <td>42</td>\n",
       "      <td>41 ft 10 in</td>\n",
       "      <td>None</td>\n",
       "      <td>Diesel</td>\n",
       "      <td>45</td>\n",
       "      <td>Yanmar</td>\n",
       "      <td>None</td>\n",
       "      <td>None</td>\n",
       "      <td>300</td>\n",
       "      <td>Portsmouth, Rhode Island</td>\n",
       "      <td>2018</td>\n",
       "      <td>265000.0</td>\n",
       "    </tr>\n",
       "    <tr>\n",
       "      <td>7152732</td>\n",
       "      <td>388900</td>\n",
       "      <td>Fountaine Pajot</td>\n",
       "      <td>Orana 44</td>\n",
       "      <td>2012</td>\n",
       "      <td>Multi-Hull</td>\n",
       "      <td>44</td>\n",
       "      <td>44 ft</td>\n",
       "      <td>None</td>\n",
       "      <td>Diesel</td>\n",
       "      <td>None</td>\n",
       "      <td>Volvo Penta</td>\n",
       "      <td>D2-40</td>\n",
       "      <td>2012</td>\n",
       "      <td>5270</td>\n",
       "      <td>St Thomas, United States</td>\n",
       "      <td>2012</td>\n",
       "      <td>388900.0</td>\n",
       "    </tr>\n",
       "  </tbody>\n",
       "</table>\n",
       "</div>"
      ],
      "text/plain": [
       "             price_str             make            model year_str  \\\n",
       "5637501  Request Price             Bali              4.5     2020   \n",
       "7213466          89500         Beneteau           OC 400     1996   \n",
       "7216014         125900           Hunter              466     2002   \n",
       "7191853         265000         Jeanneau  Sun Odyssey 419     2018   \n",
       "7152732         388900  Fountaine Pajot         Orana 44     2012   \n",
       "\n",
       "                    cls length_ft       LOA_ft displacement_lb fuel_type  \\\n",
       "5637501       Catamaran        45        45 ft           32800    Diesel   \n",
       "7213466           Sloop        40        40 ft           19200    Diesel   \n",
       "7216014  Cruiser (Sail)        46   46 ft 1 in           26180    Diesel   \n",
       "7191853  Cruiser (Sail)        42  41 ft 10 in            None    Diesel   \n",
       "7152732      Multi-Hull        44        44 ft            None    Diesel   \n",
       "\n",
       "        power_hp     eng_make eng_model eng_year eng_hrs  \\\n",
       "5637501       50         None      None     2016      50   \n",
       "7213466     None      Perkins      M-50     None    None   \n",
       "7216014       76       Yanmar      None     2002     938   \n",
       "7191853       45       Yanmar      None     None     300   \n",
       "7152732     None  Volvo Penta     D2-40     2012    5270   \n",
       "\n",
       "                          location  year  price_USD  \n",
       "5637501  All Locations, California  2020        NaN  \n",
       "7213466        Kenosha , Wisconsin  1996    89500.0  \n",
       "7216014      Stamford, Connecticut  2002   125900.0  \n",
       "7191853   Portsmouth, Rhode Island  2018   265000.0  \n",
       "7152732   St Thomas, United States  2012   388900.0  "
      ]
     },
     "execution_count": 56,
     "metadata": {},
     "output_type": "execute_result"
    }
   ],
   "source": [
    "df.head()"
   ]
  },
  {
   "cell_type": "markdown",
   "metadata": {},
   "source": [
    "I'm going to rename the feature 'year' to 'year_str'"
   ]
  },
  {
   "cell_type": "code",
   "execution_count": 3,
   "metadata": {},
   "outputs": [],
   "source": [
    "df.rename(columns={'year':'year_str'},inplace=True)\n",
    "df.rename(columns={'price':'price_str'},inplace=True)"
   ]
  },
  {
   "cell_type": "markdown",
   "metadata": {},
   "source": [
    "# Clean\n",
    "Clean steps to prepare the data for modeling:"
   ]
  },
  {
   "cell_type": "code",
   "execution_count": 59,
   "metadata": {},
   "outputs": [
    {
     "data": {
      "text/html": [
       "<div>\n",
       "<style scoped>\n",
       "    .dataframe tbody tr th:only-of-type {\n",
       "        vertical-align: middle;\n",
       "    }\n",
       "\n",
       "    .dataframe tbody tr th {\n",
       "        vertical-align: top;\n",
       "    }\n",
       "\n",
       "    .dataframe thead th {\n",
       "        text-align: right;\n",
       "    }\n",
       "</style>\n",
       "<table border=\"1\" class=\"dataframe\">\n",
       "  <thead>\n",
       "    <tr style=\"text-align: right;\">\n",
       "      <th></th>\n",
       "      <th>length_ft</th>\n",
       "      <th>year</th>\n",
       "      <th>price_USD</th>\n",
       "    </tr>\n",
       "  </thead>\n",
       "  <tbody>\n",
       "    <tr>\n",
       "      <td>count</td>\n",
       "      <td>3000.000000</td>\n",
       "      <td>3000.00000</td>\n",
       "      <td>2.911000e+03</td>\n",
       "    </tr>\n",
       "    <tr>\n",
       "      <td>mean</td>\n",
       "      <td>44.269000</td>\n",
       "      <td>2001.94800</td>\n",
       "      <td>1.811504e+05</td>\n",
       "    </tr>\n",
       "    <tr>\n",
       "      <td>std</td>\n",
       "      <td>2.980313</td>\n",
       "      <td>13.74718</td>\n",
       "      <td>1.276372e+05</td>\n",
       "    </tr>\n",
       "    <tr>\n",
       "      <td>min</td>\n",
       "      <td>40.000000</td>\n",
       "      <td>1860.00000</td>\n",
       "      <td>9.760000e+03</td>\n",
       "    </tr>\n",
       "    <tr>\n",
       "      <td>25%</td>\n",
       "      <td>42.000000</td>\n",
       "      <td>1996.00000</td>\n",
       "      <td>9.570000e+04</td>\n",
       "    </tr>\n",
       "    <tr>\n",
       "      <td>50%</td>\n",
       "      <td>44.000000</td>\n",
       "      <td>2005.00000</td>\n",
       "      <td>1.430000e+05</td>\n",
       "    </tr>\n",
       "    <tr>\n",
       "      <td>75%</td>\n",
       "      <td>46.000000</td>\n",
       "      <td>2011.00000</td>\n",
       "      <td>2.210000e+05</td>\n",
       "    </tr>\n",
       "    <tr>\n",
       "      <td>max</td>\n",
       "      <td>50.000000</td>\n",
       "      <td>2020.00000</td>\n",
       "      <td>1.350000e+06</td>\n",
       "    </tr>\n",
       "  </tbody>\n",
       "</table>\n",
       "</div>"
      ],
      "text/plain": [
       "         length_ft        year     price_USD\n",
       "count  3000.000000  3000.00000  2.911000e+03\n",
       "mean     44.269000  2001.94800  1.811504e+05\n",
       "std       2.980313    13.74718  1.276372e+05\n",
       "min      40.000000  1860.00000  9.760000e+03\n",
       "25%      42.000000  1996.00000  9.570000e+04\n",
       "50%      44.000000  2005.00000  1.430000e+05\n",
       "75%      46.000000  2011.00000  2.210000e+05\n",
       "max      50.000000  2020.00000  1.350000e+06"
      ]
     },
     "execution_count": 59,
     "metadata": {},
     "output_type": "execute_result"
    }
   ],
   "source": [
    "# There are no null values in the year so it simply be converted to an int:\n",
    "df['year'] = df['year_str'].astype(int)\n",
    "df['length_ft'] = df['length_ft'].astype(int)\n",
    "df.describe()"
   ]
  },
  {
   "cell_type": "markdown",
   "metadata": {},
   "source": [
    "$ \\def\\euro{\\unicode{x20AC}} $\n",
    "$ \\def\\yen{\\unicode{x00A5}}  $\n",
    "$ \\def\\pound{\\unicode{x00A3}} $\n",
    "$ \\def\\dollar{\\unicode{x024}} $  \n",
    "$euro = \\euro$ is asci 8364  \n",
    "$pound = \\pound$ is ascii 163"
   ]
  },
  {
   "cell_type": "code",
   "execution_count": 5,
   "metadata": {},
   "outputs": [
    {
     "name": "stdout",
     "output_type": "stream",
     "text": [
      "euro =  €\n",
      "pound =  £\n"
     ]
    }
   ],
   "source": [
    "print('euro = ',chr(8364))\n",
    "print('pound = ',chr(163))"
   ]
  },
  {
   "cell_type": "code",
   "execution_count": null,
   "metadata": {
    "scrolled": true
   },
   "outputs": [],
   "source": []
  },
  {
   "cell_type": "code",
   "execution_count": 6,
   "metadata": {},
   "outputs": [
    {
     "data": {
      "text/plain": [
       "count    2.912000e+03\n",
       "mean     1.821184e+05\n",
       "std      1.378925e+05\n",
       "min      9.760000e+03\n",
       "25%      9.570000e+04\n",
       "50%      1.430000e+05\n",
       "75%      2.220500e+05\n",
       "max      3.000000e+06\n",
       "Name: price_USD, dtype: float64"
      ]
     },
     "execution_count": 6,
     "metadata": {},
     "output_type": "execute_result"
    }
   ],
   "source": [
    "def Currency_Converter(row):\n",
    "    \"\"\"\n",
    "    Coverts dataframe series values named 'price_str' to US$\n",
    "    using converstion rates on 10/8/2019\n",
    "    \"\"\"\n",
    "\n",
    "    first_price_char = row.price_str.strip()[0]\n",
    "    if row.price_str == 'Request Price':  # New Boat\n",
    "        return None\n",
    "    price = float(re.search('\\d+', row.price_str).group(0))\n",
    "    if re.match(r'\\d',first_price_char):  # US$\n",
    "        return price\n",
    "    if first_price_char == chr(8364):  # Euro\n",
    "        return price * 1.10\n",
    "    if first_price_char == chr(163):  # British Pound\n",
    "        return price * 1.22\n",
    "    if first_price_char == 'A':   # Austrialian $\n",
    "        return price * 0.67\n",
    "    if row.price_str[:2] == 'CA':\n",
    "        return price * 0.75\n",
    "    if row.price_str[:2] == 'NZ':\n",
    "        return price * 0.63\n",
    "    if row.price_str[:3] == 'Dkr':\n",
    "        return price * 0.15\n",
    "    return None\n",
    "\n",
    "# Prices had 'US$' stripped but for other denominations there are still symbol characters:\n",
    "# Convert all price strings to US$ using Currency_Converter above\n",
    "df['price_USD'] = df.apply(Currency_Converter,axis=1).copy()\n",
    "df.price_USD.describe()"
   ]
  },
  {
   "cell_type": "code",
   "execution_count": 44,
   "metadata": {},
   "outputs": [],
   "source": [
    "# I'm going to drop the 1 value that is an order of magnitude above the others.\n",
    "df.drop(df.price_USD.idxmax(), inplace=True)"
   ]
  },
  {
   "cell_type": "code",
   "execution_count": null,
   "metadata": {},
   "outputs": [],
   "source": []
  },
  {
   "cell_type": "code",
   "execution_count": 52,
   "metadata": {},
   "outputs": [
    {
     "name": "stdout",
     "output_type": "stream",
     "text": [
      "<class 'pandas.core.frame.DataFrame'>\n",
      "Index: 3000 entries, 5637501 to 1015053\n",
      "Data columns (total 17 columns):\n",
      "price_str          3000 non-null object\n",
      "make               3000 non-null object\n",
      "model              2947 non-null object\n",
      "year_str           3000 non-null object\n",
      "cls                3000 non-null object\n",
      "length_ft          3000 non-null object\n",
      "LOA_ft             2708 non-null object\n",
      "displacement_lb    1466 non-null object\n",
      "fuel_type          2892 non-null object\n",
      "power_hp           2086 non-null object\n",
      "eng_make           2170 non-null object\n",
      "eng_model          1587 non-null object\n",
      "eng_year           1369 non-null object\n",
      "eng_hrs            1118 non-null object\n",
      "location           3000 non-null object\n",
      "year               3000 non-null int64\n",
      "price_USD          2911 non-null float64\n",
      "dtypes: float64(1), int64(1), object(15)\n",
      "memory usage: 421.9+ KB\n"
     ]
    }
   ],
   "source": [
    "df.info()"
   ]
  },
  {
   "cell_type": "markdown",
   "metadata": {},
   "source": [
    "Grab the parts of df that will be modeled and eliminate rows that have None's."
   ]
  },
  {
   "cell_type": "code",
   "execution_count": 60,
   "metadata": {},
   "outputs": [],
   "source": [
    "data = df.loc[:,['year','price_USD','length_ft']].copy()\n",
    "data.dropna(inplace=True)\n",
    "X = data[['year', 'length_ft']]\n",
    "y = data['price_USD']"
   ]
  },
  {
   "cell_type": "code",
   "execution_count": 63,
   "metadata": {},
   "outputs": [],
   "source": [
    "# Divide the data into test and train sets:\n",
    "X_train, X_test, y_train, y_test = train_test_split(X, np.log(y), test_size=.2, random_state=42)"
   ]
  },
  {
   "cell_type": "code",
   "execution_count": 64,
   "metadata": {},
   "outputs": [],
   "source": [
    "from sklearn_pandas import DataFrameMapper\n",
    "from sklearn.preprocessing import FunctionTransformer\n",
    "from sklearn.preprocessing import StandardScaler\n",
    "from sklearn.pipeline import FeatureUnion\n",
    "from sklearn.pipeline import make_pipeline\n",
    "#posTransform = make_pipeline(FunctionTransformer(np.log), StandardScaler())\n",
    "    # (['Lot Area', 'Gr Liv Area'], posTransform),\n",
    "mapper = DataFrameMapper([\n",
    "        (['year', 'length_ft'], StandardScaler())\n",
    "        ])\n",
    "\n",
    "pipe = make_pipeline(mapper, LinearRegression())"
   ]
  },
  {
   "cell_type": "code",
   "execution_count": 65,
   "metadata": {},
   "outputs": [
    {
     "data": {
      "text/plain": [
       "Pipeline(memory=None,\n",
       "         steps=[('dataframemapper',\n",
       "                 DataFrameMapper(default=False, df_out=False,\n",
       "                                 features=[(['year', 'length_ft'],\n",
       "                                            StandardScaler(copy=True,\n",
       "                                                           with_mean=True,\n",
       "                                                           with_std=True))],\n",
       "                                 input_df=False, sparse=False)),\n",
       "                ('linearregression',\n",
       "                 LinearRegression(copy_X=True, fit_intercept=True, n_jobs=None,\n",
       "                                  normalize=False))],\n",
       "         verbose=False)"
      ]
     },
     "execution_count": 65,
     "metadata": {},
     "output_type": "execute_result"
    }
   ],
   "source": [
    "pipe.fit(X_train,y_train)"
   ]
  },
  {
   "cell_type": "code",
   "execution_count": null,
   "metadata": {},
   "outputs": [],
   "source": []
  },
  {
   "cell_type": "code",
   "execution_count": 66,
   "metadata": {},
   "outputs": [],
   "source": [
    "r2_train = pipe.score(pd.DataFrame(X_train),y_train)\n",
    "y_pred_test = np.exp(pipe.predict(X_test))\n",
    "y_pred_train = np.exp(pipe.predict(X_train))\n",
    "r2_test = pipe.score(X_test,y_test)"
   ]
  },
  {
   "cell_type": "code",
   "execution_count": 67,
   "metadata": {},
   "outputs": [
    {
     "name": "stdout",
     "output_type": "stream",
     "text": [
      "R2 Train:  0.35936773442495773\n",
      "R2 Test:  0.3514006474273259\n"
     ]
    },
    {
     "data": {
      "image/png": "[encoded data removed]",
      "text/plain": [
       "<Figure size 432x288 with 1 Axes>"
      ]
     },
     "metadata": {
      "needs_background": "light"
     },
     "output_type": "display_data"
    }
   ],
   "source": [
    "#Plot the results\n",
    "fig,ax = plt.subplots(1,1);\n",
    "ax.scatter(y_pred_test,np.exp(y_test),label='Test Data', s=100, alpha=0.2)\n",
    "#ax.scatter(y_pred_train,np.exp(y_train),label='Train Data', s=100, alpha=0.2)\n",
    "ax.set_ylabel('y actual')\n",
    "ax.set_xlabel('y predict')\n",
    "ax.legend();\n",
    "print('R2 Train: ', r2_train)\n",
    "print('R2 Test: ', r2_test)"
   ]
  },
  {
   "cell_type": "markdown",
   "metadata": {},
   "source": [
    "This was the MVP linear regression."
   ]
  },
  {
   "cell_type": "code",
   "execution_count": null,
   "metadata": {},
   "outputs": [],
   "source": []
  },
  {
   "cell_type": "code",
   "execution_count": null,
   "metadata": {
    "scrolled": true
   },
   "outputs": [],
   "source": [
    "# Divide the data into test and train sets:\n",
    "#X_train, X_test, y_train, y_test = train_test_split(X, np.log(y), test_size=.2, random_state=42)\n",
    "# Create an empty model\n",
    "#lr = LinearRegression()\n",
    "\n",
    "# Fit the model to the full dataset\n",
    "#fit = lr.fit(pd.DataFrame(X_train), y_train)\n",
    "\n",
    "# Calculate R2 for the training set\n",
    "#y_pred_train = fit.predict(pd.DataFrame(X_train))\n",
    "#r2_train = fit.score(pd.DataFrame(X_train),y_train)\n",
    "\n",
    "# Calculate y_pred and R2 for the test set\n",
    "#y_pred = fit.predict(pd.DataFrame(X_test))\n",
    "#r2_test = fit.score(pd.DataFrame(X_test),y_test)\n"
   ]
  }
 ],
 "metadata": {
  "kernelspec": {
   "display_name": "Python [conda env:metis] *",
   "language": "python",
   "name": "conda-env-metis-py"
  },
  "language_info": {
   "codemirror_mode": {
    "name": "ipython",
    "version": 3
   },
   "file_extension": ".py",
   "mimetype": "text/x-python",
   "name": "python",
   "nbconvert_exporter": "python",
   "pygments_lexer": "ipython3",
   "version": "3.7.3"
  }
 },
 "nbformat": 4,
 "nbformat_minor": 2
}
